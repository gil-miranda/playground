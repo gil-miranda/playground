{
 "cells": [
  {
   "cell_type": "code",
   "execution_count": 6,
   "metadata": {},
   "outputs": [],
   "source": [
    "import numpy as np"
   ]
  },
  {
   "cell_type": "markdown",
   "metadata": {},
   "source": [
    "### [Problem 1](https://projecteuler.net/problem=1)\n",
    "\n",
    "Todos os múltiplos de 3 e 5 abaixo de 1000 formam uma Progressão Aritmetica com razão $r$ sendo 3 ou 5<br>\n",
    "Usando a fórmula da soma de uma PA:\n",
    "$$\n",
    "S = \\frac{(a_1 + a_n)\\cdot n}{2}\n",
    "$$\n",
    "Onde $a_1$ é o primeiro termo, $a_n$ é o último termo e $n$ é a quantidade de termos<br>\n",
    "Todos os números que possuem 3 e 5 simultaneamente em sua fatoração serão contabilizados duas vezes, portanto é necessário contornar esse problema.<br>\n",
    "Temos que subtrair a soma de todos os números que possuem 3 e 5 ao mesmo tempo em sua fatoração, como 3 e 5 são primos basta fazer uma PA de razão 15<br>"
   ]
  },
  {
   "cell_type": "code",
   "execution_count": 1,
   "metadata": {},
   "outputs": [
    {
     "data": {
      "text/plain": [
       "233168"
      ]
     },
     "execution_count": 1,
     "metadata": {},
     "output_type": "execute_result"
    }
   ],
   "source": [
    "lim = 1000\n",
    "n_3 = int(lim/3)\n",
    "n_5 = int(lim/5)-1\n",
    "n_15 = int(lim/15)\n",
    "S_pa_3 = int((3+int(n_3)*3)*(n_3)/2)\n",
    "S_pa_5 = int((5+int(n_5)*5)*(n_5)/2)\n",
    "S_pa_15 = int((15+int(n_15)*15)*(n_15)/2)\n",
    "total = S_pa_3 + S_pa_5 - S_pa_15\n",
    "total"
   ]
  },
  {
   "cell_type": "markdown",
   "metadata": {},
   "source": [
    "---\n",
    "### [Problem 2](https://projecteuler.net/problem=2)\n",
    "\n",
    "Criei uma função que gera a sequência de Fibonacci, e então através de uma `list comprehension` criei uma lista apenas com os termos pares da sequência."
   ]
  },
  {
   "cell_type": "code",
   "execution_count": 2,
   "metadata": {},
   "outputs": [
    {
     "data": {
      "text/plain": [
       "4613732"
      ]
     },
     "execution_count": 2,
     "metadata": {},
     "output_type": "execute_result"
    }
   ],
   "source": [
    "fib = [1,2]\n",
    "while (fib[-1] <= 4e+6):\n",
    "    fib.append(fib[-1]+fib[-2])\n",
    "\n",
    "even_fib = [f for f in fib if f%2 == 0]\n",
    "total = sum(even_fib)\n",
    "total"
   ]
  },
  {
   "cell_type": "markdown",
   "metadata": {},
   "source": [
    "---\n",
    "### [Problem 3](https://projecteuler.net/problem=3)\n",
    "\n",
    "Utilizando o fato de que é necessário verificar apenas até a raíz quadrado de um inteiro $n$ para termos todos seus divisores(PROVAR), é construída a solução do problema.<br><br>\n",
    "\n",
    "Primeiro uma função que lista todos os divisores de um inteiro.<br>\n",
    "E uma segunda função que percorre a lista do maior para o menor, procurando a primeiro ocorrência de um número primo.<br>\n",
    "Encontrando esse primo $p$, $p$ é o maior primo divisor de $n$"
   ]
  },
  {
   "cell_type": "code",
   "execution_count": 161,
   "metadata": {},
   "outputs": [
    {
     "data": {
      "text/plain": [
       "6857"
      ]
     },
     "execution_count": 161,
     "metadata": {},
     "output_type": "execute_result"
    }
   ],
   "source": [
    "n = 600851475143\n",
    "\n",
    "def list_div(x):\n",
    "    root = int(np.sqrt(x))\n",
    "    div_l = [i for i in range(2,root+1) if x%i == 0]\n",
    "    div_u = [x/j for j in div_l]\n",
    "    return [div_l,div_u]\n",
    "\n",
    "div_l, div_u = list_div(n)\n",
    "def testa_prim(div):\n",
    "    for i in div:\n",
    "        p_l, p_u = list_div(i)\n",
    "        if len(p_l) == 0 and len(p_u) == 0:\n",
    "            return i\n",
    "        \n",
    "primo_m = testa_prim(div_u)\n",
    "if (primo_m == None): primo_m = testa_prim(div_l[::-1])\n",
    "primo_m"
   ]
  },
  {
   "cell_type": "markdown",
   "metadata": {},
   "source": [
    "---\n",
    "### [Problem 4](https://projecteuler.net/problem=4)\n",
    "\n",
    "Como o problema pede um multiplo de dois número de 3 algarismos, temos que o menor desses número é $100$ e o maior é $999$<br>\n",
    "O menor múltiplo de um número de 3 algarismos é então dado por $n = 100 x 100 = 10000$, e o maior $n = 999x999 = 998001$<br>\n",
    "Portanto a busca se limita ao conjunto $\\{x \\in \\mathbb{N}| 10000 < x < 998001\\}$"
   ]
  },
  {
   "cell_type": "code",
   "execution_count": 9,
   "metadata": {},
   "outputs": [
    {
     "name": "stdout",
     "output_type": "stream",
     "text": [
      "906609\n"
     ]
    }
   ],
   "source": [
    "lowest_n = 100\n",
    "biggest_n = 999\n",
    "\n",
    "rng = range(lowest_n**2,biggest_n**2)\n",
    "\n",
    "def is_palindrome(x): # function to chek if given int is palindrome\n",
    "    x = str(int(x))\n",
    "    n = len(x)\n",
    "    cut = int(n/2)\n",
    "    if n%2 == 0:\n",
    "        x_1 = x[0:cut]\n",
    "        x_2 = x[cut:]\n",
    "        x_2 = x_2[::-1]\n",
    "    else:\n",
    "        x_1 = x[0:cut]\n",
    "        x_2 = x[cut+1:]\n",
    "        x_2 = x_2[::-1]\n",
    "    if np.array_equal(x_1,x_2) == True:\n",
    "        return True\n",
    "    else:\n",
    "        return False\n",
    "\n",
    "def list_div(x): # function to factorize given int\n",
    "    root = int(np.sqrt(x))\n",
    "    div_l = [i for i in range(2,root+1) if x%i == 0]\n",
    "    div_u = [x/j for j in div_l]\n",
    "    return [div_l,div_u]\n",
    "\n",
    "palinds = [i for i in rng if is_palindrome(i) == True]\n",
    "palinds = palinds[::-1]\n",
    "\n",
    "for p in palinds:\n",
    "    div_l,div_u = list_div(p)\n",
    "    factorization = list(zip(div_l,div_u))\n",
    "    three_digit = [k for k in factorization if k[0] >100 and k[0] < 999 and k[1] >100 and k[1] < 999]\n",
    "    if len(three_digit) > 0:\n",
    "        print(p)\n",
    "        break\n",
    "\n",
    "\n",
    "#div_l,div_u = list_div(906609)\n",
    "#div_l,div_u\n",
    "#a = [i for i in div_u if i > 100 and i < 999]\n",
    "#b = [i for i in div_l if i > 100 and i < 999]\n",
    "#c = list(zip(div_l,div_u))\n",
    "#d = [k for k in c if k[0] >100 and k[0] < 999 and k[1] >100 and k[1] < 999]\n"
   ]
  },
  {
   "cell_type": "markdown",
   "metadata": {},
   "source": [
    "---\n",
    "### [Problem 5](https://projecteuler.net/problem=5)\n",
    "\n",
    "Let's take a look at the Fundamental Theorem of Arithmetic, also called Unique Factorization Theorem:<br>\n",
    "> Every integer greater than 1 either is a prime number itself or can be represented as the product of prime numbers and that, moreover, this representation is unique, up to (except for) the order of the factors.\n",
    "\n",
    "This theorem brings some powerful tools to deal with integers.<br>\n",
    "For example, the problem asks to find a number that is a multiple of every integer from 1 to 20, we can construct such number as $20!$ because it has every positive integer below 20 in it's factorization<br>\n",
    "To solve the problem of the smallest of such numbers, all we have to do is, using the FTA find the smallest factorization of each positive intenger below 20, with that in hands we find the highest occurency of each prime below 20 and multiply everything."
   ]
  },
  {
   "cell_type": "code",
   "execution_count": 414,
   "metadata": {},
   "outputs": [
    {
     "data": {
      "text/plain": [
       "232792560"
      ]
     },
     "execution_count": 414,
     "metadata": {},
     "output_type": "execute_result"
    }
   ],
   "source": [
    "primes = [2, 3, 5, 7, 11, 13, 17, 19, 23, 29, 31, 37, 41, 43, 47, 53, 59, 61, 67, 71, 73, 79, 83, 89, 97, 101, 103, 107, 109, 113, 127, 131, 137, 139, 149, 151, 157, 163, 167, 173, 179, 181, 191, 193, 197, 199]\n",
    "\n",
    "def factorize(x,f,i=0):   \n",
    "    if x > 1:\n",
    "        if x%primes[i] == 0:\n",
    "            f.append(primes[i])\n",
    "            factorize(x/primes[i],f,i)\n",
    "        else:\n",
    "            factorize(x,f,i+1)\n",
    "    return f\n",
    "\n",
    "divs = [i for i in range(2,20+1)]\n",
    "m_fat = [factorize(f,[]) for f in divs]\n",
    "\n",
    "max = 7+1\n",
    "occur = [0]*max\n",
    "n = len(m_fat)\n",
    "for i in range(0,n):\n",
    "    for j in range(0,max):\n",
    "        cont = m_fat[i].count(primes[j])\n",
    "        if cont > occur[j]:\n",
    "            occur[j] = cont\n",
    "ans = 1\n",
    "for i in range(0,max):\n",
    "    ans *= primes[i]**occur[i]\n",
    "ans"
   ]
  },
  {
   "cell_type": "markdown",
   "metadata": {},
   "source": [
    "---\n",
    "### [Problem 6](https://projecteuler.net/problem=6)\n",
    "Usando que\n",
    "$$\n",
    "\\sum\\limits_{i=1}^n i^2 = \\frac{n\\cdot (n+1) \\cdot (2n+1)}{6}\\\\\n",
    "\\sum\\limits_{i=1}^n i = \\frac{(1+n)\\cdot n}{2}\n",
    "$$\n",
    "Podemos facilmente resolver o problema"
   ]
  },
  {
   "cell_type": "code",
   "execution_count": 403,
   "metadata": {},
   "outputs": [
    {
     "data": {
      "text/plain": [
       "25164150.0"
      ]
     },
     "execution_count": 403,
     "metadata": {},
     "output_type": "execute_result"
    }
   ],
   "source": [
    "n = 100\n",
    "sum_sqr = (n*(n+1)*(2*n+1))/6\n",
    "sum_lin = ((1+n)*n/2)**2\n",
    "sum_lin-sum_sqr"
   ]
  },
  {
   "cell_type": "markdown",
   "metadata": {},
   "source": [
    "---\n",
    "### [Problem 7](https://projecteuler.net/problem=7)"
   ]
  },
  {
   "cell_type": "code",
   "execution_count": 427,
   "metadata": {},
   "outputs": [
    {
     "data": {
      "text/plain": [
       "104743"
      ]
     },
     "execution_count": 427,
     "metadata": {},
     "output_type": "execute_result"
    }
   ],
   "source": [
    "\n",
    "def is_prime(x): # function that checks if number is prime\n",
    "    def list_div(x):\n",
    "        root = int(np.sqrt(x))\n",
    "        div_l = [i for i in range(2,root+1) if x%i == 0]\n",
    "        div_u = [x/j for j in div_l]\n",
    "        return [div_l,div_u]\n",
    "    p_l, p_u = list_div(x)\n",
    "    if len(p_l) == 0 and len(p_u) == 0: return True\n",
    "    else: return False\n",
    "\n",
    "def lst_prms(bound): # function that creates a list of the first primes below bound\n",
    "    i = 2\n",
    "    prms = []\n",
    "    while len(prms) < bound:\n",
    "        if testa_prim(i) == True:\n",
    "            prms.append(i)\n",
    "        i += 1\n",
    "    return prms\n",
    "\n",
    "prms = lst_prms(10001)\n",
    "prms[-1]"
   ]
  },
  {
   "cell_type": "markdown",
   "metadata": {},
   "source": [
    "---\n",
    "### [Problem 8](https://projecteuler.net/problem=8)\n",
    "    "
   ]
  },
  {
   "cell_type": "code",
   "execution_count": null,
   "metadata": {},
   "outputs": [],
   "source": []
  }
 ],
 "metadata": {
  "kernelspec": {
   "display_name": "Python 3",
   "language": "python",
   "name": "python3"
  },
  "language_info": {
   "codemirror_mode": {
    "name": "ipython",
    "version": 3
   },
   "file_extension": ".py",
   "mimetype": "text/x-python",
   "name": "python",
   "nbconvert_exporter": "python",
   "pygments_lexer": "ipython3",
   "version": "3.7.1"
  }
 },
 "nbformat": 4,
 "nbformat_minor": 2
}
