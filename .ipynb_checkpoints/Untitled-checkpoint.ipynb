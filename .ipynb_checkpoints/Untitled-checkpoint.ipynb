{
 "cells": [
  {
   "cell_type": "code",
   "execution_count": 1,
   "metadata": {},
   "outputs": [],
   "source": [
    "Sf = [0,0]\n",
    "ts = 1\n",
    "s0 = 10\n",
    "u = Sf[0]/s0\n",
    "d = Sf[1]/s0\n",
    "r = 1/10\n",
    "Sf_disc = []\n",
    "\n",
    "def set_Sf(s):\n",
    "    Sf[0] = s[0]\n",
    "    Sf[1] = s[1]\n",
    "\n",
    "def set_Ts(t):\n",
    "    ts = t\n",
    "\n",
    "def set_s0(s):\n",
    "    if s == 0: raise valueError('Preço inicial 0 não será modelado')\n",
    "    s0 = s\n",
    "\n",
    "def discretize():\n",
    "    u_disc = (Sf[0]/s0)**(1/(ts-1))\n",
    "    d_disc = (Sf[1] / s0) ** (1 / (ts - 1))\n",
    "    for i in range(0,ts):\n",
    "        Sf_disc.append(u_disc**(t-1-i)*d_disc**(i)*s0)\n",
    "\n",
    "def print_Sf():\n",
    "    Sf"
   ]
  },
  {
   "cell_type": "code",
   "execution_count": null,
   "metadata": {},
   "outputs": [],
   "source": []
  }
 ],
 "metadata": {
  "kernelspec": {
   "display_name": "Python 3",
   "language": "python",
   "name": "python3"
  },
  "language_info": {
   "codemirror_mode": {
    "name": "ipython",
    "version": 3
   },
   "file_extension": ".py",
   "mimetype": "text/x-python",
   "name": "python",
   "nbconvert_exporter": "python",
   "pygments_lexer": "ipython3",
   "version": "3.7.3"
  }
 },
 "nbformat": 4,
 "nbformat_minor": 2
}
