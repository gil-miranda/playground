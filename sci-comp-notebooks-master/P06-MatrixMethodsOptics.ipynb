{
 "cells": [
  {
   "cell_type": "markdown",
   "metadata": {
    "deletable": true,
    "editable": true
   },
   "source": [
    "\n",
    "Matrix Methods\n",
    "==============\n",
    "\n",
    "\n",
    "This project involves performing thin lens calculations using a matrix representation of optical elements. See the slides for an explanation of the details. The end result is that we have two matrix operators for refraction and translation transitions:\n",
    "\n",
    "Refraction:\n",
    "-----------\n",
    "\n",
    "$$\\hat{R}\\left|r_0\\right\\rangle = \\begin{bmatrix} 1 & 0 \\\\ \\frac{n_l - n_r}{R n_r} & \\frac{n_l}{n_r} \\end{bmatrix} \\begin{bmatrix} y_0 \\\\ \\alpha_0\\end{bmatrix}$$\n",
    "\n",
    "Translation\n",
    "-----------\n",
    "\n",
    "$$\\hat{T}\\left|r_0\\right\\rangle = \\begin{bmatrix} 1 & L \\\\ 0 & 1 \\end{bmatrix} \\begin{bmatrix} y_0 \\\\ \\alpha_0\\end{bmatrix}$$\n",
    "\n",
    "Where $n_l$ and $n_r$ are the indices of refraction on the left and right (respectively) of the refractive interface. $R$ is the radius of curvature of the refractive interface (positive if the center of curvature is to the right, negative to the left). $y_0$ is the height of the ray before the transition, $\\alpha_0$ is the angle (in radians) of the ray before the transition. $L$ is the length of the translation. Various combinations of these two operators can describe very complicated lens systems easily!\n",
    "\n",
    "Here's the example worked out in the slides:"
   ]
  },
  {
   "cell_type": "code",
   "execution_count": 1,
   "metadata": {
    "collapsed": false,
    "deletable": true,
    "editable": true
   },
   "outputs": [
    {
     "name": "stdout",
     "output_type": "stream",
     "text": [
      "Populating the interactive namespace from numpy and matplotlib\n"
     ]
    }
   ],
   "source": [
    "%pylab inline"
   ]
  },
  {
   "cell_type": "code",
   "execution_count": 2,
   "metadata": {
    "collapsed": false,
    "deletable": true,
    "editable": true
   },
   "outputs": [
    {
     "data": {
      "text/plain": [
       "array([[ 0.01],\n",
       "       [ 0.  ]])"
      ]
     },
     "execution_count": 2,
     "metadata": {},
     "output_type": "execute_result"
    }
   ],
   "source": [
    "ng=1.5  # index of glass\n",
    "na=1.0  # index of air\n",
    "h=0.01  # start with ray 1.0 cm above axis\n",
    "R=0.15  # radius of curvature of lens\n",
    "\n",
    "ray1 = array([[h],[0.0]])\n",
    "\n",
    "ray1"
   ]
  },
  {
   "cell_type": "code",
   "execution_count": 3,
   "metadata": {
    "collapsed": false,
    "deletable": true,
    "editable": true
   },
   "outputs": [
    {
     "data": {
      "text/plain": [
       "array([[ 1.,  3.],\n",
       "       [ 0.,  1.]])"
      ]
     },
     "execution_count": 3,
     "metadata": {},
     "output_type": "execute_result"
    }
   ],
   "source": [
    "T1 = array([[1.0, 3.0],\n",
    "            [0.0, 1.0]\n",
    "            ])\n",
    "T1"
   ]
  },
  {
   "cell_type": "code",
   "execution_count": 4,
   "metadata": {
    "collapsed": false,
    "deletable": true,
    "editable": true
   },
   "outputs": [
    {
     "data": {
      "text/plain": [
       "array([[ 0.01],\n",
       "       [ 0.  ]])"
      ]
     },
     "execution_count": 4,
     "metadata": {},
     "output_type": "execute_result"
    }
   ],
   "source": [
    "ray2 = T1.dot(ray1)  # matrix multiplication is handled by the \"dot\" method of an array\n",
    "ray2"
   ]
  },
  {
   "cell_type": "code",
   "execution_count": 5,
   "metadata": {
    "collapsed": false,
    "deletable": true,
    "editable": true
   },
   "outputs": [
    {
     "data": {
      "text/plain": [
       "array([[ 1.        ,  0.        ],\n",
       "       [-2.22222222,  0.66666667]])"
      ]
     },
     "execution_count": 5,
     "metadata": {},
     "output_type": "execute_result"
    }
   ],
   "source": [
    "R1 = array([[1.0, 0.0],               # entering the curved surface\n",
    "            [(na-ng)/(ng*R), na/ng]])\n",
    "R1"
   ]
  },
  {
   "cell_type": "code",
   "execution_count": 6,
   "metadata": {
    "collapsed": false,
    "deletable": true,
    "editable": true
   },
   "outputs": [
    {
     "data": {
      "text/plain": [
       "array([[ 0.01      ],\n",
       "       [-0.02222222]])"
      ]
     },
     "execution_count": 6,
     "metadata": {},
     "output_type": "execute_result"
    }
   ],
   "source": [
    "ray3 = R1.dot(ray2)\n",
    "ray3"
   ]
  },
  {
   "cell_type": "code",
   "execution_count": 7,
   "metadata": {
    "collapsed": false,
    "deletable": true,
    "editable": true
   },
   "outputs": [
    {
     "data": {
      "text/plain": [
       "array([[ 1. ,  0. ],\n",
       "       [ 0. ,  1.5]])"
      ]
     },
     "execution_count": 7,
     "metadata": {},
     "output_type": "execute_result"
    }
   ],
   "source": [
    "R2 = array([[1.0,0.0],              # exiting the planer surface\n",
    "            [0.0, ng/na]])\n",
    "R2"
   ]
  },
  {
   "cell_type": "code",
   "execution_count": 8,
   "metadata": {
    "collapsed": false,
    "deletable": true,
    "editable": true
   },
   "outputs": [
    {
     "data": {
      "text/plain": [
       "array([[ 0.01      ],\n",
       "       [-0.03333333]])"
      ]
     },
     "execution_count": 8,
     "metadata": {},
     "output_type": "execute_result"
    }
   ],
   "source": [
    "ray4=R2.dot(ray3)\n",
    "ray4"
   ]
  },
  {
   "cell_type": "code",
   "execution_count": 9,
   "metadata": {
    "collapsed": false,
    "deletable": true,
    "editable": true
   },
   "outputs": [
    {
     "data": {
      "text/plain": [
       "0.29999999999999999"
      ]
     },
     "execution_count": 9,
     "metadata": {},
     "output_type": "execute_result"
    }
   ],
   "source": [
    "fl=-ray4[0,0]/ray4[1,0]         # calculate the focal length from the height and angle of the ray.\n",
    "fl"
   ]
  },
  {
   "cell_type": "code",
   "execution_count": 10,
   "metadata": {
    "collapsed": false,
    "deletable": true,
    "editable": true
   },
   "outputs": [
    {
     "data": {
      "text/plain": [
       "0.3"
      ]
     },
     "execution_count": 10,
     "metadata": {},
     "output_type": "execute_result"
    }
   ],
   "source": [
    "na*R/(ng-na)                    # compare to the \"lens makers\" equation result."
   ]
  },
  {
   "cell_type": "code",
   "execution_count": 11,
   "metadata": {
    "collapsed": false,
    "deletable": true,
    "editable": true
   },
   "outputs": [
    {
     "data": {
      "text/plain": [
       "array([[ 1.        ,  3.        ],\n",
       "       [-3.33333333, -9.        ]])"
      ]
     },
     "execution_count": 11,
     "metadata": {},
     "output_type": "execute_result"
    }
   ],
   "source": [
    "M = R2.dot(R1.dot(T1))   # system matrix\n",
    "M"
   ]
  },
  {
   "cell_type": "code",
   "execution_count": 12,
   "metadata": {
    "collapsed": false,
    "deletable": true,
    "editable": true
   },
   "outputs": [
    {
     "data": {
      "text/plain": [
       "array([[ 0.01      ],\n",
       "       [-0.03333333]])"
      ]
     },
     "execution_count": 12,
     "metadata": {},
     "output_type": "execute_result"
    }
   ],
   "source": [
    "M.dot(ray1)             # system acting on ray1"
   ]
  },
  {
   "cell_type": "markdown",
   "metadata": {
    "deletable": true,
    "editable": true
   },
   "source": [
    "Project 6\n",
    "==========\n",
    "\n",
    "We'll measure the properties of a *thick* lens in class. Using these ideas, compute the focal length of the thick lens and compare to experimentally measured values."
   ]
  },
  {
   "cell_type": "code",
   "execution_count": 12,
   "metadata": {
    "collapsed": false,
    "deletable": true,
    "editable": true
   },
   "outputs": [],
   "source": []
  }
 ],
 "metadata": {
  "kernelspec": {
   "display_name": "Python 3",
   "language": "python",
   "name": "python3"
  },
  "language_info": {
   "codemirror_mode": {
    "name": "ipython",
    "version": 3
   },
   "file_extension": ".py",
   "mimetype": "text/x-python",
   "name": "python",
   "nbconvert_exporter": "python",
   "pygments_lexer": "ipython3",
   "version": "3.6.0"
  }
 },
 "nbformat": 4,
 "nbformat_minor": 0
}
