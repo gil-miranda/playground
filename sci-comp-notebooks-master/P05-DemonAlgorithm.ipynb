{
 "cells": [
  {
   "cell_type": "markdown",
   "metadata": {},
   "source": [
    "The Demon Algorithm\n",
    "===========\n",
    "\n",
    "There are a number of approaches to complex problems involving large numbers of interactions where the objective is to find the \"average\" behavior of the system over a long period of time. We've seen that we can integrage Newton's 2nd Law to see the precise behavior of a multipartical system over time. When we have a handful of objects in a system this works well. However, if we have thousands or millions of particles, it's not practical. Looking at \"average\" behavior however glosses over the precision of following each interaction and attempts only to see what happens on a less fine-grained scale. This means we sacrifice the hope of getting a detailed pictured of a microscopic physical process, but achieve the reward of a more general understanding of the large scale consequences of that process. The demon algorithm is such an approach. It's a simple way to simulate the random exchange of energy between components of a system over time. Here's the basic idea:\n",
    "\n",
    "* Suppose we have a demon..\n",
    "\n",
    "    1 Make a small change to the system.\n",
    "\n",
    "    2 Compute $\\Delta E$. If $\\Delta E<0$ give it to the “demon” and accept the change.\n",
    "\n",
    "    3 If $\\Delta E>0$ and the demon has that much energy available, accept the change and take the energy from the demon.\n",
    "    \n",
    "    4 If the demon doesn’t have that much energy, then reject the change.\n",
    "    \n",
    "Example Problem\n",
    "---------------\n",
    "\n",
    "Compute the height distribution of nitrogen molecules near the Earth's surface. Assume T=const. and that the weight of a molecule is constant.\n",
    "\n",
    "$$ PE(y) = m g y $$\n",
    "\n",
    "so $\\Delta E$ is just $m g \\Delta y$.\n",
    "\n",
    "Below is a sample program that uses the demon algorithm to approach this problem."
   ]
  },
  {
   "cell_type": "code",
   "execution_count": 3,
   "metadata": {},
   "outputs": [
    {
     "name": "stdout",
     "output_type": "stream",
     "text": [
      "Populating the interactive namespace from numpy and matplotlib\n"
     ]
    }
   ],
   "source": [
    "%pylab inline"
   ]
  },
  {
   "cell_type": "code",
   "execution_count": 6,
   "metadata": {},
   "outputs": [
    {
     "name": "stdout",
     "output_type": "stream",
     "text": [
      "0.9476828824145266\n",
      "(array([  13.,   47.,  123.,  215.,  232.,  192.,  119.,   39.,   15.,    5.]), array([-2.7374974 , -2.12548311, -1.51346882, -0.90145453, -0.28944024,\n",
      "        0.32257405,  0.93458834,  1.54660263,  2.15861692,  2.77063121,\n",
      "        3.3826455 ]), <a list of 10 Patch objects>)\n"
     ]
    },
    {
     "data": {
      "image/png": "[encoded data removed]",
      "text/plain": [
       "<matplotlib.figure.Figure at 0x10af03a20>"
      ]
     },
     "metadata": {},
     "output_type": "display_data"
    }
   ],
   "source": [
    "#\n",
    "# rand() returns a single random number:\n",
    "#\n",
    "\n",
    "print(rand())\n",
    "\n",
    "#\n",
    "# hist plots a histogram of an array of numbers\n",
    "#\n",
    "\n",
    "print(hist(normal(size=1000)))"
   ]
  },
  {
   "cell_type": "code",
   "execution_count": 7,
   "metadata": {},
   "outputs": [
    {
     "data": {
      "text/plain": [
       "(array([ 100.,   89.,   88.,   90.,  123.,   96.,  104.,  107.,  103.,  100.]),\n",
       " array([  4.44630797e-04,   2.00310731e-01,   4.00176830e-01,\n",
       "          6.00042930e-01,   7.99909030e-01,   9.99775130e-01,\n",
       "          1.19964123e+00,   1.39950733e+00,   1.59937343e+00,\n",
       "          1.79923953e+00,   1.99910563e+00]),\n",
       " <a list of 10 Patch objects>)"
      ]
     },
     "execution_count": 7,
     "metadata": {},
     "output_type": "execute_result"
    },
    {
     "data": {
      "image/png": "[encoded data removed]",
      "text/plain": [
       "<matplotlib.figure.Figure at 0x10ae56780>"
      ]
     },
     "metadata": {},
     "output_type": "display_data"
    }
   ],
   "source": [
    "m=28*1.67e-27  # mass of a molecule (e.g., Nitrogen)\n",
    "g=9.8          # grav field strength\n",
    "kb=1.67e-23    # boltzman constant\n",
    "demonE = 0.0   # initial demon energy\n",
    "N=10000        # number of molecules\n",
    "M=400000       # number of iterations\n",
    "h=20000.0      # height scale\n",
    "\n",
    "def setup(N=100,L=1.0):\n",
    "    y=L*rand(N)     # put N particles at random heights (y) between 0 and L\n",
    "    return y\n",
    "\n",
    "yarray = setup(N=1000,L=2.0)\n",
    "hist(yarray)\n"
   ]
  },
  {
   "cell_type": "code",
   "execution_count": 9,
   "metadata": {},
   "outputs": [
    {
     "name": "stdout",
     "output_type": "stream",
     "text": [
      "77.10225 percent accepted\n",
      "Averge height=9973.304m\n"
     ]
    },
    {
     "data": {
      "image/png": "[encoded data removed]",
      "text/plain": [
       "<matplotlib.figure.Figure at 0x10aef1710>"
      ]
     },
     "metadata": {},
     "output_type": "display_data"
    }
   ],
   "source": [
    "def shake(y, demonE, delta=0.1):\n",
    "    \"\"\"\n",
    "    Pass in the current demon energy as an argument.\n",
    "    delta is the size of change in y to generate, more or less.\n",
    "    randomly choose a particle, change it's position slightly (around delta)\n",
    "    return the new demon energy and a boolean (was the change accepted?)\n",
    "    \"\"\"\n",
    "    ix = int(rand()*len(y))\n",
    "    deltaY = delta*normal()\n",
    "    deltaE = deltaY*m*g\n",
    "    accept=False\n",
    "    if deltaE < demonE and (y[ix]+deltaY>0):\n",
    "        demonE -= deltaE  # take the energy from the demon, or give it if deltaE<0.\n",
    "        y[ix] += deltaY\n",
    "        accept=True\n",
    "        \n",
    "    return demonE, accept\n",
    "\n",
    "y = setup(N,L=h)\n",
    "\n",
    "acceptCount = 0\n",
    "\n",
    "demonList = []\n",
    "for i in range(M):\n",
    "    demonE,accept = shake(y, demonE, delta=0.2*h)\n",
    "    demonList.append(demonE)\n",
    "    if accept:\n",
    "        acceptCount += 1\n",
    "\n",
    "title(\"Distribution of heights\")\n",
    "xlabel(\"height (m)\")\n",
    "ylabel(\"number in height range\")\n",
    "hist(y,bins=40)\n",
    "print(100.0*acceptCount/M, \"percent accepted\")\n",
    "print(\"Averge height=%4.3fm\" % (y.sum()/len(y),))"
   ]
  },
  {
   "cell_type": "code",
   "execution_count": 10,
   "metadata": {},
   "outputs": [
    {
     "data": {
      "image/png": "[encoded data removed]",
      "text/plain": [
       "<matplotlib.figure.Figure at 0x10aef1a58>"
      ]
     },
     "metadata": {},
     "output_type": "display_data"
    }
   ],
   "source": [
    "#\n",
    "# Build a histogram of Demon Energies\n",
    "#\n",
    "\n",
    "title(\"Distribution of Demon Energies\")\n",
    "xlabel(\"Energy Ranges (J)\")\n",
    "ylabel(\"Number in Energy Ranges\")\n",
    "ns, bins, patches = hist(demonList, bins=60)"
   ]
  },
  {
   "cell_type": "markdown",
   "metadata": {},
   "source": [
    "Demonic Thermometer\n",
    "====================\n",
    "\n",
    "You can easily see that the demon acts like an small thermometer. According to the Maxwell-Boltzmann distribution the energy distribution of the demon's energy should go like:\n",
    "\n",
    "$$P(E) = P_0 e^{-E/k_B T}$$\n",
    "\n",
    "Where $P_0$ is the basically the probability of having an energy of zero. (Actually, maybe a better way to think of it is as a normalization constant that's determined by the requirement that the total probability to have *any* energy is 1.0). The histogram of demon energies tells us the number of times the demon have various values of energy during the calculation. This is proportional to the probability that the demon had various energies. We can fit that probability to an exponential curve (or the log of the probability to a straight line) and from the slope of the line deduce the temperature!\n",
    "\n",
    "See below how the code does exactly this.\n"
   ]
  },
  {
   "cell_type": "code",
   "execution_count": 13,
   "metadata": {},
   "outputs": [
    {
     "name": "stdout",
     "output_type": "stream",
     "text": [
      "slope= -1.90714037137e+20 +/- 6.16514763062e+17\n",
      "intercept= 11.1373229547 +/- 0.00459800607707\n",
      "Temperature= 313.979193247 +/- 1.01498982895 K\n"
     ]
    },
    {
     "data": {
      "text/plain": [
       "<matplotlib.legend.Legend at 0x10dbea5c0>"
      ]
     },
     "execution_count": 13,
     "metadata": {},
     "output_type": "execute_result"
    },
    {
     "data": {
      "image/png": "[encoded data removed]",
      "text/plain": [
       "<matplotlib.figure.Figure at 0x10c6fe278>"
      ]
     },
     "metadata": {},
     "output_type": "display_data"
    }
   ],
   "source": [
    "#\n",
    "# Use a \"curve fit\" to find the temperature of the demon\n",
    "#\n",
    "\n",
    "from scipy.optimize import curve_fit\n",
    "\n",
    "def fLinear(x, m, b):\n",
    "    return m*x + b\n",
    "\n",
    "energies = (bins[:-1]+bins[1:])/2.0\n",
    "xvals = array(energies)  # fit log(n) vs. energy\n",
    "yvals = log(array(ns))\n",
    "sig = 1.0/sqrt(array(ns))\n",
    "\n",
    "#\n",
    "# make initial estimates of slope and intercept.\n",
    "#\n",
    "\n",
    "m0 = (yvals[-1]-yvals[0])/(xvals[-1]-xvals[0])\n",
    "b0 = yvals[0]-m0*xvals[0]\n",
    "\n",
    "popt, pcov = curve_fit(fLinear, xvals, yvals, p0=(m0, b0), sigma=sig)\n",
    "\n",
    "m=popt[0]          # slope\n",
    "dm=sqrt(pcov[0,0]) # sqrt(variance(slope))\n",
    "b=popt[1]          # int\n",
    "db=sqrt(pcov[1,1]) # sqrt(variance(int))\n",
    "Temp=-1.0/(m*kb)   # temperature\n",
    "dT = abs(dm*Temp/m)# approx uncertainty in temp\n",
    "\n",
    "print(\"slope=\", m, \"+/-\", dm )\n",
    "print(\"intercept=\", b, \"+/-\", db)\n",
    "print(\"Temperature=\", Temp, \"+/-\", dT, \"K\")\n",
    "title(\"Demon Energy Distribution\")\n",
    "xlabel(\"Energy (J)\")\n",
    "ylabel(\"log(n) (number of demon visit to energy)\")\n",
    "errorbar(xvals, yvals, sig, fmt='r.')\n",
    "plot(xvals,yvals,'b.',label=\"Demon Energies\")\n",
    "plot(xvals,fLinear(xvals, m, b),'r-', label=\"Fit\")\n",
    "legend()"
   ]
  },
  {
   "cell_type": "markdown",
   "metadata": {},
   "source": [
    "Proj 5: (option 1) \n",
    "==========\n",
    "\n",
    "Velocity distribution in a 1-D gas\n",
    "--------------------------------\n",
    "\n",
    "For project 5 use the above example as a starting point to investigate the distribution of velocities of nitrogen molecules in a 1D gas. Start the velocities out in some random distribution, then each 'step' should bump one molecule up or down in velocity randomly. Use the demon algorithm to exchange energy between the system and the demon. Use the same strategy to show a final distribution of velocities and energies to determine the  temperature of the system."
   ]
  },
  {
   "cell_type": "markdown",
   "metadata": {},
   "source": [
    "Proj 5: (option 2) \n",
    "==========\n",
    "\n",
    "Monte-Carlo Simulation\n",
    "---------------------\n",
    "\n",
    "The main point of this project is to use the generation of random data to answer non-trivial questions. If you don't love the idea of the velocity distribution of particles in a gas, you can attack any problem you care to dream up that could be modeled using a large number of random numbers in some way. If you choose to do this, please let me know your plans!\n",
    "\n",
    "\n"
   ]
  },
  {
   "cell_type": "code",
   "execution_count": null,
   "metadata": {
    "collapsed": true
   },
   "outputs": [],
   "source": []
  }
 ],
 "metadata": {
  "kernelspec": {
   "display_name": "Python 3",
   "language": "python",
   "name": "python3"
  },
  "language_info": {
   "codemirror_mode": {
    "name": "ipython",
    "version": 3
   },
   "file_extension": ".py",
   "mimetype": "text/x-python",
   "name": "python",
   "nbconvert_exporter": "python",
   "pygments_lexer": "ipython3",
   "version": "3.6.2"
  }
 },
 "nbformat": 4,
 "nbformat_minor": 1
}
