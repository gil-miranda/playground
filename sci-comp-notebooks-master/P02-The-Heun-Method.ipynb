{
 "cells": [
  {
   "cell_type": "markdown",
   "metadata": {},
   "source": [
    "Project 2: The Heun Method and Coupled Equations\n",
    "===========================\n",
    "\n",
    "Two Learning Goals\n",
    "------------------\n",
    "\n",
    "This project involves two related learning goals 1) Begin to learn a slightly improved method of integrating a differential equation (The Heun Method) and 2) learn how to turn higher order equations into a set of first order coupled equations along with a simple technique to manage the extra complexity.\n",
    "\n",
    "The Heun Method\n",
    "----------------\n",
    "\n",
    "While Euler's Method is quite easy and accurate enough for simple problems\n",
    "it is less successful when applied to more challenging situations. Depending\n",
    "on the nature of the function $f(s,t)$ Euler's Method can  easily\n",
    "under or overestimate the change. Getting satisfactory results using\n",
    "the Euler Method can require very small time steps, making the algorithm\n",
    "very slow. \n",
    "\n",
    "There are many ways to improve the situation and we'll see\n",
    "a number of them in this course. Our first improvement is called\n",
    "\"The Heun Method\".  The idea is to take a \"fake\" time step, re-evaluate\n",
    "the function $f(s,t)$ there, and then average the two results\n",
    "for the \"real\" timestep. This process is animated in the online slides, and I ecourage\n",
    "you to watch those if you can. (Check under Resources -> Slides on ACE).\n",
    "\n",
    "Starting at $x_1$ find the slope $f(s,t)$ and\n",
    "extrapolate out to $x_1 + \\Delta x$.\n",
    "\n",
    "<img width=\"250\" src=\"https://raw.githubusercontent.com/sspickle/sci-comp-notebooks/master/imgs/heun1.png\">\n",
    "\n",
    "Next.. evaluate the slope at the extrapolated value of s.\n",
    "\n",
    "<img width=\"250\" src=\"https://raw.githubusercontent.com/sspickle/sci-comp-notebooks/master/imgs/heun2.png\">\n",
    "\n",
    "Using this slope.. extrapolate *again*. Note that while the\n",
    "first extrapolation underestimated the change in s, the second\n",
    "overestimated. Heun's method is to use the *average* of these \n",
    "two estimates:\n",
    "\n",
    "<img width=\"250\" src=\"https://raw.githubusercontent.com/sspickle/sci-comp-notebooks/master/imgs/heun3.png\">\n",
    "\n",
    "You can see that the average is much closer to the exact\n",
    "solution than the original Euler Method result. In short\n",
    "here's how it works:\n",
    "\n",
    "Starting at $x=x_1$, take a fake Euler step,\n",
    " \n",
    "first evaluate f(s,t):  \n",
    "\n",
    "$$f_1 = f(s_1, x_1)$$\n",
    " \n",
    "next jump to the next x: \n",
    "\n",
    "$$x_2 = x_1 + \\Delta x$$\n",
    " \n",
    "estimate the new value of s: \n",
    "\n",
    "$$s_2 = s_1 + f(s_1,x_1) \\Delta x$$\n",
    "  \n",
    "Evaluate f(s,t) at the new position:\n",
    "    \n",
    "$$f_2 = f(s_2, x_2)$$\n",
    "            \n",
    "Extrapolate using the average of the 'f' values:\n",
    "    \n",
    "$$s_3 = s_1 + \\frac{1}{2}(f_1 + f_2) \\Delta x$$\n",
    "            \n",
    "Now $s_3$ is the Heun's Method result.\n",
    "\n",
    "Let's re-work our project from last time using both the Euler and Heun methods to compare."
   ]
  },
  {
   "cell_type": "code",
   "execution_count": 1,
   "metadata": {},
   "outputs": [
    {
     "name": "stdout",
     "output_type": "stream",
     "text": [
      "Populating the interactive namespace from numpy and matplotlib\n"
     ]
    }
   ],
   "source": [
    "%pylab inline"
   ]
  },
  {
   "cell_type": "code",
   "execution_count": 2,
   "metadata": {},
   "outputs": [
    {
     "data": {
      "text/plain": [
       "[<matplotlib.lines.Line2D at 0x107d79dd8>,\n",
       " <matplotlib.lines.Line2D at 0x107d96828>]"
      ]
     },
     "execution_count": 2,
     "metadata": {},
     "output_type": "execute_result"
    },
    {
     "data": {
      "image/png": "[encoded data removed]",
      "text/plain": [
       "<Figure size 432x288 with 1 Axes>"
      ]
     },
     "metadata": {},
     "output_type": "display_data"
    }
   ],
   "source": [
    "#\n",
    "# No data this time. We'll just compare the analytical and computer\n",
    "# solutions to the problem. First let's do the Euler Method:\n",
    "#\n",
    "\n",
    "m = 0.0038  # kg (mass of cup plus 6 paper clips. See proj. 1)\n",
    "g = 9.8     # m/s^2, gravitational field strength at Earth's surface\n",
    "b = 0.00375 # effective drag coefficient, measured experimentally\n",
    "\n",
    "s = 0.0     # s is the 'state', in this case, it's just the velocity.\n",
    "dt = 0.03   # pick a reasonable time step\n",
    "t = 0.0     # start at t=0.0\n",
    "tf = 1.0    # stop in 10 sec\n",
    "\n",
    "def derivs_drag(s,t):\n",
    "    \"\"\"\n",
    "    The derivs_drag function computes the time derivative of the \"state\"\n",
    "    for this particular problem. In this case the \"state\" is just the velocity\n",
    "    of an object falling with drag.\n",
    "    \"\"\"\n",
    "    dsdt = b*s**2/m - g\n",
    "    return dsdt\n",
    "\n",
    "def EulerStep(s, t, derivs, dt):\n",
    "    \"\"\"\n",
    "    EulerStep is a generic implimentation of the Euler Algorithm.\n",
    "    Notice that it knows *nothing* about the state, nor the physics\n",
    "    of the problem (which is handled by the 'derivs' function\n",
    "    that is passed in by the programmer).\n",
    "    \"\"\"\n",
    "    return s + derivs(s,t)*dt\n",
    "\n",
    "v0=sqrt(m*g/b)\n",
    "tau=v0/(2*g)\n",
    "\n",
    "def VAnalytical(t):\n",
    "    return v0*(1-exp(t/tau))/(1+exp(t/tau))\n",
    "\n",
    "tlist = [t]\n",
    "slist = [s]\n",
    "\n",
    "while t <= tf:\n",
    "    s = EulerStep(s, t, derivs_drag, dt)\n",
    "    t += dt\n",
    "    tlist.append(t)\n",
    "    slist.append(s)\n",
    "    \n",
    "xlabel(\"time (s)\")\n",
    "ylabel(\"$v_y$ (m/s)\")\n",
    "title(\"Falling Muffin Cup (Euler)\")\n",
    "v_euler = array(slist)\n",
    "v_analytical = VAnalytical(array(tlist))\n",
    "plot(tlist,v_euler,'g.',tlist,v_analytical,'b-')"
   ]
  },
  {
   "cell_type": "code",
   "execution_count": 3,
   "metadata": {},
   "outputs": [
    {
     "name": "stdout",
     "output_type": "stream",
     "text": [
      "RMS difference per time step= 0.0267378365429191\n"
     ]
    }
   ],
   "source": [
    "#\n",
    "# Let's get a numerical measure of the \"error\" per time step\n",
    "#\n",
    "\n",
    "rms_diff_euler = sqrt((v_euler-v_analytical)**2).sum()/len(tlist)\n",
    "print (\"RMS difference per time step=\", rms_diff_euler)"
   ]
  },
  {
   "cell_type": "code",
   "execution_count": 4,
   "metadata": {},
   "outputs": [
    {
     "data": {
      "text/plain": [
       "[<matplotlib.lines.Line2D at 0x107e33f98>,\n",
       " <matplotlib.lines.Line2D at 0x107f0f908>]"
      ]
     },
     "execution_count": 4,
     "metadata": {},
     "output_type": "execute_result"
    },
    {
     "data": {
      "image/png": "[encoded data removed]",
      "text/plain": [
       "<Figure size 432x288 with 1 Axes>"
      ]
     },
     "metadata": {},
     "output_type": "display_data"
    }
   ],
   "source": [
    "#\n",
    "# No data this time. We'll just compare the analytical and computer\n",
    "# solutions to the problem.\n",
    "#\n",
    "\n",
    "m = 0.0038  # kg (mass of cup plus 6 paper clips. See proj. 1)\n",
    "g = 9.8     # m/s^2, gravitational field strength at Earth's surface\n",
    "b = 0.00375 # effective drag coefficient, measured experimentally\n",
    "\n",
    "s = 0.0     # s is the 'state', in this case, it's just the velocity.\n",
    "dt = 0.03   # pick a reasonable time step\n",
    "t = 0.0     # start at t=0.0\n",
    "tf = 1.0    # stop in 10 sec\n",
    "\n",
    "def derivs_drag(s,t):\n",
    "    \"\"\"\n",
    "    The derivs_drag function computes the time derivative of the \"state\"\n",
    "    for this particular problem. In this case the \"state\" is just the velocity\n",
    "    of an object falling with drag.\n",
    "    \"\"\"\n",
    "    dsdt = b*s**2/m - g\n",
    "    return dsdt\n",
    "\n",
    "def HeunStep(s, t, derivs, dt):\n",
    "    \"\"\"\n",
    "    HeunStep is a generic implimentation of the Heun Method.\n",
    "    Notice that it knows *nothing* about the state, nor the physics\n",
    "    of the problem (which is handled by the 'derivs' function\n",
    "    that is passed in by the programmer).\n",
    "    \"\"\"\n",
    "    f1=derivs(s,t)\n",
    "    f2=derivs(s+f1*dt,t+dt)\n",
    "    return s + 0.5*(f1+f2)*dt\n",
    "\n",
    "v0=sqrt(m*g/b)\n",
    "tau=v0/(2*g)\n",
    "\n",
    "def VAnalytical(t):\n",
    "    return v0*(1-exp(t/tau))/(1+exp(t/tau))\n",
    "\n",
    "tlist = [t]\n",
    "slist = [s]\n",
    "\n",
    "while t <= tf:\n",
    "    s = HeunStep(s, t, derivs_drag, dt)\n",
    "    t += dt\n",
    "    tlist.append(t)\n",
    "    slist.append(s)\n",
    "    \n",
    "xlabel(\"time (s)\")\n",
    "ylabel(\"$v_y$(m)\")\n",
    "title(\"Falling Muffin Cup (Heun)\")\n",
    "v_heun = array(slist)\n",
    "v_analytical = VAnalytical(array(tlist))\n",
    "plot(tlist,v_heun,'g.',tlist,v_analytical,'b-')"
   ]
  },
  {
   "cell_type": "code",
   "execution_count": 5,
   "metadata": {},
   "outputs": [
    {
     "name": "stdout",
     "output_type": "stream",
     "text": [
      "RMS difference per time step= 0.001909920488169262\n"
     ]
    }
   ],
   "source": [
    "#\n",
    "# Let's get a numerical measure of the \"error\" per time step\n",
    "#\n",
    "\n",
    "rms_diff_heun = sqrt((v_heun-v_analytical)**2).sum()/len(tlist)\n",
    "print (\"RMS difference per time step=\", rms_diff_heun)"
   ]
  },
  {
   "cell_type": "markdown",
   "metadata": {},
   "source": [
    "Wow! That 0.2% rms error for Euler compared to 2.6% for the Euler Method, over 10x better.\n",
    "\n",
    "Heun’s method is considered a 2nd order method. That means that\n",
    "the size of the error goes like $dt^2$. Euler’s Method, in\n",
    "contrast, is 1st order. Let’s graph the error using Heun’s Method and\n",
    "Euler’S Method as we change the time step size for an example problem\n",
    "(like the simple harmonic oscillator, which we’ll study next!).\n",
    " \n",
    "Note that halving the time step using  Euler’s Method reduces the\n",
    "error in proportion (i.e., by half). However, reducing the time step\n",
    "using Heun’s method reduces the error by a factor of 4, so you get 4\n",
    "times the accuracy by doubling the number of steps. Of course, each\n",
    "step now requires more work as well, so it’s not all for free.\n",
    "\n",
    "Let's quantify that even more. The following block of code computes the velocity as a function of time for a number of different time steps using both the Euler and Heun methods comparing the output with the analytical solution along the way. Notice that the log of the rms error per time step $\\log(\\sigma)$ is linear in the log of the time step with a slope of 1 (Euler) or 2 (Heun). We'll discuss what that means exactly in class, but you should think about it yourself as well. You don't need to understand this code in detail, but you should understand what it's doing at a high level (not the nuts and bolts, but the basic idea)."
   ]
  },
  {
   "cell_type": "code",
   "execution_count": 6,
   "metadata": {},
   "outputs": [
    {
     "data": {
      "text/plain": [
       "Text(-3.5,-1.5,'log($\\\\sigma$) =  0.996  log(dt) +  0.028')"
      ]
     },
     "execution_count": 6,
     "metadata": {},
     "output_type": "execute_result"
    },
    {
     "data": {
      "image/png": "[encoded data removed]",
      "text/plain": [
       "<Figure size 432x288 with 1 Axes>"
      ]
     },
     "metadata": {},
     "output_type": "display_data"
    }
   ],
   "source": [
    "\"\"\"\n",
    "Compare Euler and Heun methods with different time steps\n",
    "\"\"\"\n",
    "#\n",
    "# No data this time. We'll just compare the analytical and computer\n",
    "# solutions to the problem.\n",
    "#\n",
    "\n",
    "m = 0.0038  # kg (mass of cup plus 6 paper clips. See proj. 1)\n",
    "g = 9.8     # m/s^2, gravitational field strength at Earth's surface\n",
    "b = 0.00375 # effective drag coefficient, measured experimentally\n",
    "\n",
    "s = 0.0     # s is the 'state', in this case, it's just the velocity.\n",
    "dt = 0.03   # pick a reasonable time step\n",
    "t = 0.0     # start at t=0.0\n",
    "tf = 1.0    # stop in 10 sec\n",
    "\n",
    "def derivs_drag(s,t):\n",
    "    \"\"\"\n",
    "    The derivs_drag function computes the time derivative of the \"state\"\n",
    "    for this particular problem. In this case the \"state\" is just the velocity\n",
    "    of an object falling with drag.\n",
    "    \"\"\"\n",
    "    dsdt = b*s**2/m - g\n",
    "    return dsdt\n",
    "\n",
    "def EulerStep(s, t, derivs, dt):\n",
    "    \"\"\"\n",
    "    EulerStep is a generic implimentation of the Euler Algorithm.\n",
    "    Notice that it knows *nothing* about the state, nor the physics\n",
    "    of the problem (which is handled by the 'derivs' function\n",
    "    that is passed in by the programmer).\n",
    "    \"\"\"\n",
    "    return s + derivs(s,t)*dt\n",
    "\n",
    "def HeunStep(s, t, derivs, dt):\n",
    "    \"\"\"\n",
    "    HeunStep is a generic implimentation of the Heun Method.\n",
    "    Notice that it knows *nothing* about the state, nor the physics\n",
    "    of the problem (which is handled by the 'derivs' function\n",
    "    that is passed in by the programmer).\n",
    "    \"\"\"\n",
    "    f1=derivs(s,t)\n",
    "    f2=derivs(s+f1*dt,t+dt)\n",
    "    return s + 0.5*(f1+f2)*dt\n",
    "\n",
    "v0=sqrt(m*g/b)\n",
    "tau=v0/(2*g)\n",
    "\n",
    "def VAnalytical(t):\n",
    "    return v0*(1-exp(t/tau))/(1+exp(t/tau))\n",
    "\n",
    "\"\"\"\n",
    "OK.. ready to run!\n",
    "\"\"\"\n",
    "dt = 0.1\n",
    "dtlist = []\n",
    "err_heunlist=[]\n",
    "err_eulerlist=[]\n",
    "\n",
    "while dt > 1e-4:\n",
    "    t = 0.0\n",
    "\n",
    "    s = 0.0\n",
    "    s_euler = 0.0\n",
    "    s_exact = VAnalytical(t)\n",
    "    \n",
    "    vlst = [s]\n",
    "    tlst = [t]\n",
    "    \n",
    "    velist = [s_exact]\n",
    "    veulerlst = [s_euler]\n",
    "    \n",
    "    while t < tf:\n",
    "    \n",
    "        # do a Heun Step and an Euler Step\n",
    "    \n",
    "        s = HeunStep(s, t, derivs_drag, dt)\n",
    "        s_euler = EulerStep(s_euler, t, derivs_drag, dt)\n",
    "        t += dt\n",
    "        s_exact = VAnalytical(t)\n",
    "        \n",
    "        vlst.append(s)    \n",
    "        velist.append(s_exact)\n",
    "        veulerlst.append(s_euler)\n",
    "        tlst.append(t)\n",
    "    \n",
    "    #\n",
    "    # now compute the rms error for Heun and Euler methods\n",
    "    #\n",
    "    \n",
    "    diff_heun = array(vlst)-array(velist)\n",
    "    diff_euler = array(veulerlst)-array(velist)\n",
    "    \n",
    "    heunErr = sqrt((diff_heun**2).sum()/len(tlst))\n",
    "    eulerErr = sqrt((diff_euler**2).sum()/len(tlst))\n",
    "    err_heunlist.append(heunErr)\n",
    "    err_eulerlist.append(eulerErr)\n",
    "    dtlist.append(dt)\n",
    "    dt = dt/1.5\n",
    "\n",
    "coefs_euler = polyfit(log10(dtlist), log10(err_eulerlist), 1)\n",
    "coefs_heun = polyfit(log10(dtlist), log10(err_heunlist), 1)\n",
    "\n",
    "plot(log10(dtlist), log10(err_eulerlist), \"go\", log10(dtlist), coefs_euler[1] + log10(dtlist)*coefs_euler[0], \"g\")\n",
    "plot(log10(dtlist), log10(err_heunlist), \"bo\", log10(dtlist), coefs_heun[1] + log10(dtlist)*coefs_heun[0], \"b\")\n",
    "xlabel(\"$log_{10}$ of time step\")\n",
    "ylabel(\"$log_{10}$ of RMS error\")\n",
    "title(\"RMS error log($\\sigma$) for various time steps\")\n",
    "legend(['Euler', '(fit)','Heun', '(fit)'], loc=4)\n",
    "\n",
    "text(-3.2, -7.5, \"log($\\sigma$) = %6.3f log(dt) + %6.3f\" % (coefs_heun[0], coefs_heun[1]))\n",
    "text(-3.5, -1.5, \"log($\\sigma$) = %6.3f  log(dt) + %6.3f\" % (coefs_euler[0], coefs_euler[1]))"
   ]
  },
  {
   "cell_type": "markdown",
   "metadata": {},
   "source": [
    "Coupled Equations\n",
    "=================\n",
    "\n",
    "Suppose in addition to the velocity of the muffin cup, we also want to track the position. How could we do it? The first thing to notice is that the position and the velocity are related by yet another first order differential equation:\n",
    "\n",
    "$$\\frac{dy}{dt} = v$$\n",
    "\n",
    "So that we can introduce the position $y$ by adding a second first order equation to our system.\n",
    "\n",
    "Let's re-work the Heun method example from above to do this. Now we'll define the *state* as not just the velocity, but include both the velocity *and* the position.\n",
    "\n",
    "`s = array([y, v])`\n",
    "\n",
    "The primary changes then relate to the `derivs_drag` method and how we set initial state and extract values from the state to make graphs and comparisons. Examine the following code. Notice how the state is now an array that contains the $y$ and $v_y$ values at each time. Notice also that the `HeunStep` function is identical to the one used earlier! This means that we can use the same function to handle any number of coupled first order equations. Neat!"
   ]
  },
  {
   "cell_type": "code",
   "execution_count": 7,
   "metadata": {},
   "outputs": [
    {
     "data": {
      "text/plain": [
       "[<matplotlib.lines.Line2D at 0x1081ee048>]"
      ]
     },
     "execution_count": 7,
     "metadata": {},
     "output_type": "execute_result"
    },
    {
     "data": {
      "image/png": "[encoded data removed]",
      "text/plain": [
       "<Figure size 432x288 with 2 Axes>"
      ]
     },
     "metadata": {},
     "output_type": "display_data"
    }
   ],
   "source": [
    "#\n",
    "# No data this time. We'll just compare the analytical and computer\n",
    "# solutions to the problem.\n",
    "#\n",
    "\n",
    "m = 0.0038  # kg (mass of cup plus 6 paper clips. See proj. 1)\n",
    "g = 9.8     # m/s^2, gravitational field strength at Earth's surface\n",
    "b = 0.00375 # effective drag coefficient, measured experimentally\n",
    "\n",
    "vi = 0.0    # intial velocity\n",
    "yi = 0.0    # initial height\n",
    "\n",
    "s = array([yi,vi])  # <-- now 'state' is position *and* velocity\n",
    "\n",
    "dt = 0.03   # pick a reasonable time step\n",
    "t = 0.0     # start at t=0.0\n",
    "tf = 1.0    # stop in 10 sec\n",
    "\n",
    "def derivs_drag(s,t):\n",
    "    \"\"\"\n",
    "    The derivs_drag function computes the time derivative of the \"state\"\n",
    "    for this particular problem. Now the \"state\" is both the position\n",
    "    *and* the velocity of the falling muffin tin.\n",
    "    \"\"\"\n",
    "    y=s[0]  # <- y is the first element of the state vector\n",
    "    v=s[1]  # <- v is the second element of the state vector\n",
    "\n",
    "    dvdt = b*v**2/m - g   # in this problem dv/dt = a doesn't depend on y\n",
    "    dydt = v\n",
    "    \n",
    "    return array([dydt, dvdt])\n",
    "\n",
    "def HeunStep(s, t, derivs, dt):\n",
    "    \"\"\"\n",
    "    HeunStep is a generic implimentation of the Heun Method.\n",
    "    Notice that it knows *nothing* about the state, nor the physics\n",
    "    of the problem (which is handled by the 'derivs' function\n",
    "    that is passed in by the programmer). Note that this function has *not*\n",
    "    changed at all.\n",
    "    \"\"\"\n",
    "    f1=derivs(s,t)\n",
    "    f2=derivs(s+f1*dt,t+dt)\n",
    "    return s + 0.5*(f1+f2)*dt\n",
    "\n",
    "v0=sqrt(m*g/b)  # terminal velocity\n",
    "tau=v0/(2*g)    # time constant\n",
    "\n",
    "def VAnalytical(t):\n",
    "    return v0*(1-exp(t/tau))/(1+exp(t/tau))\n",
    "\n",
    "tlist = [t]\n",
    "ylist = [yi]\n",
    "vlist = [vi]\n",
    "\n",
    "while t <= tf:\n",
    "    s = HeunStep(s, t, derivs_drag, dt)\n",
    "    t += dt\n",
    "    tlist.append(t)\n",
    "    ylist.append(s[0])  # append the y value\n",
    "    vlist.append(s[1])  # append the v value\n",
    "\n",
    "fig, ax1 = subplots()\n",
    "ax1.set_xlabel(\"time (s)\")\n",
    "ax1.set_ylabel(\"$v_y$(m/s)\")\n",
    "ax1.set_title(\"Falling Muffin Cup (Heun)\")\n",
    "v_heun = array(vlist)\n",
    "v_analytical = VAnalytical(array(tlist))\n",
    "ax1.plot(tlist,v_heun,'g.',tlist,v_analytical,'b-')\n",
    "\n",
    "ax2 = ax1.twinx()\n",
    "ax2.set_ylabel(\"$y$ (m)\")\n",
    "ax2.plot(tlist,ylist,'r.')"
   ]
  },
  {
   "cell_type": "markdown",
   "metadata": {},
   "source": [
    "Project 2 (option 1): Spaceshot to Proxima Centauri\n",
    "============================\n",
    "\n",
    "Now we're going to combine all this into our next project. Proxima Centauri is about 4.24 light-years away. It is the nearest start to our Sun. It is dreamed that some day humans will develop the technology needed to send astronauts to visit Proxima Centauri. Let's assume we have that technology already and consider modeling how that might work. Suppose you have an advanced propulsion system capable of producing incredible quantities of thrust with very little fuel. Let's design the mission so that humans can arrive at Proxima Centauri in five years or less (according to their own biological clocks).\n",
    "\n",
    "Use the **Heun** **Method** to compute the position and velocity of the space-craft as it leaves our solar system and heads to Proxima Centauri. You should use a `state` array like the one used in the last Heun Method example. Ignore gravitational effects from our Sun and/or Proxima Centauri. Just assume that you have control of the thrust which can be directed toward or away from the Sun and turned on and off. You can make the thrust whatever you like, but understand that the human body will not survive an acceleration of much more than 4 of 5 times $g$.\n",
    "\n",
    "Think about how you can do this and what limitations you might encounter. We'll discus this more in class. This project is a good option if you've had Modern Physics (PHYS 250) *or* if you want to learn about the effects of special relativity in a concrete situation.\n",
    "\n",
    "Project 2 (option 2): Baseball with quadratic drag\n",
    "============================\n",
    "\n",
    "Suppose you're modeling a baseball in flight, but including the effect of air drag. Assume a baseball is launched with an initial speed of 80 m/s in a direction 35 degrees above the horizontal.  You may assume that the magnitude of the drag force is given by:\n",
    "\n",
    "$$ f_d = \\frac{1}{2} C_d A \\rho v^2 $$\n",
    "\n",
    "Where $C_d$ is the drag coefficient (around 1), $A$ is the cross sectional area of the ball, $\\rho$ is the density of the air and $v$ is the speed of the ball (magnitude of velocity).\n",
    "\n",
    "Use Heun's method to find the trajectory of the ball and, in particular, the maximum altitude and range (distance from the batter where the ball reaches the ground). Remember, position and velocity will both be two component vectors so the `state` vector will have four components over all. This project is a good option if you don't want to mess with relativity.\n",
    "\n",
    "Project 2 (option 3): You come up with your own problem\n",
    "==============================\n",
    "\n",
    "It's OK with me, if you don't like either of these two options, to come up with your own. However it must be at least a second order system (have a state vector with two components) and you must use the Heun method to solve it.\n",
    "\n"
   ]
  },
  {
   "cell_type": "code",
   "execution_count": null,
   "metadata": {},
   "outputs": [],
   "source": []
  }
 ],
 "metadata": {
  "kernelspec": {
   "display_name": "Python 3",
   "language": "python",
   "name": "python3"
  },
  "language_info": {
   "codemirror_mode": {
    "name": "ipython",
    "version": 3
   },
   "file_extension": ".py",
   "mimetype": "text/x-python",
   "name": "python",
   "nbconvert_exporter": "python",
   "pygments_lexer": "ipython3",
   "version": "3.6.5"
  }
 },
 "nbformat": 4,
 "nbformat_minor": 1
}
