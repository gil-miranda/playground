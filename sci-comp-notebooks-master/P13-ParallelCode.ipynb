{
 "metadata": {
  "name": "",
  "signature": "sha256:5f6686c8e8c4452fd6727485f7030a0dba1d4e5fd3127159a4d67d88d965719c"
 },
 "nbformat": 3,
 "nbformat_minor": 0,
 "worksheets": [
  {
   "cells": [
    {
     "cell_type": "markdown",
     "metadata": {},
     "source": [
      "IPython Notebooks for Parallel Computing\n",
      "========================================\n",
      "\n",
      "This is simply an example notbook illustrating the \"cluster\" tab of the ipython notebook. You can use this as a starter project for developing simple parallel codes in a notebook.\n",
      "\n",
      "First start up a cluster using the \"Cluster\" tab. Then try these cells."
     ]
    },
    {
     "cell_type": "code",
     "collapsed": false,
     "input": [
      "from IPython.parallel import Client\n",
      "rc=Client()\n",
      "view = rc[:]\n",
      "print rc.ids"
     ],
     "language": "python",
     "metadata": {},
     "outputs": [
      {
       "output_type": "stream",
       "stream": "stdout",
       "text": [
        "[0, 1, 2, 3]\n"
       ]
      }
     ],
     "prompt_number": 1
    },
    {
     "cell_type": "markdown",
     "metadata": {},
     "source": [
      "Use the %px magic to import methods on the nodes"
     ]
    },
    {
     "cell_type": "code",
     "collapsed": false,
     "input": [
      "%px from pylab import arccos, rand\n",
      "from numpy import array"
     ],
     "language": "python",
     "metadata": {},
     "outputs": [],
     "prompt_number": 2
    },
    {
     "cell_type": "markdown",
     "metadata": {},
     "source": [
      "Next, use the `%%px` magic to define a function on the nodes"
     ]
    },
    {
     "cell_type": "code",
     "collapsed": false,
     "input": [
      "%%px\n",
      "\n",
      "def f(N):\n",
      "    y=arccos(1.0-2*rand(N))\n",
      "    return 2.0*y.sum()/N\n"
     ],
     "language": "python",
     "metadata": {},
     "outputs": [],
     "prompt_number": 3
    },
    {
     "cell_type": "code",
     "collapsed": false,
     "input": [
      "x = view.map(lambda N: f(N), 10*[1000000]).result\n",
      "x"
     ],
     "language": "python",
     "metadata": {},
     "outputs": [
      {
       "metadata": {},
       "output_type": "pyout",
       "prompt_number": 4,
       "text": [
        "[3.1405796297219211,\n",
        " 3.1426586695423637,\n",
        " 3.1398369967668183,\n",
        " 3.1420250074438467,\n",
        " 3.1427624932300482,\n",
        " 3.1410966404557557,\n",
        " 3.1431271009553994,\n",
        " 3.141158465309319,\n",
        " 3.1426331913328771,\n",
        " 3.1436420212612775]"
       ]
      }
     ],
     "prompt_number": 4
    },
    {
     "cell_type": "code",
     "collapsed": false,
     "input": [
      "array(x).sum()/len(x)"
     ],
     "language": "python",
     "metadata": {},
     "outputs": [
      {
       "metadata": {},
       "output_type": "pyout",
       "prompt_number": 5,
       "text": [
        "3.1419520216019627"
       ]
      }
     ],
     "prompt_number": 5
    },
    {
     "cell_type": "code",
     "collapsed": false,
     "input": [],
     "language": "python",
     "metadata": {},
     "outputs": []
    }
   ],
   "metadata": {}
  }
 ]
}