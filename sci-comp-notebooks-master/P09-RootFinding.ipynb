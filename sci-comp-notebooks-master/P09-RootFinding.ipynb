{
 "cells": [
  {
   "cell_type": "markdown",
   "metadata": {},
   "source": [
    "Root Finding\n",
    "============\n",
    "\n",
    "This week we're exploring algorithms for finding roots of arbitrary functions.\n",
    "\n",
    "Any time you try to solve an algebraic problem and end up with a transcendental equation you can find yourself with root finding as the only viable means of extracting answers.\n",
    "\n",
    "As an example there's a nice quantum mechanical system (The finite square well <http://youtu.be/XDNPA5x5_uQ>, you don't need to follow this podcast, it's just an example for which the result of a transcendental equation is important) for which the bound energy states can be found by solving the two transcendental equations:\n",
    "\n",
    "$$\\sin(z)=z/z_0$$\n",
    "\n",
    "and \n",
    "\n",
    "$$\\cos(z)=z/z_0$$\n",
    "\n",
    "Where $z_0$ is a unitless real number that characterizes the depth and width of the potential well and $z$ is a unitless real number (less that $z_0$) that characterizes the energy level.\n",
    "\n",
    "Since the $\\cos(z)$ version always has at least one solution, let's look at it first.\n",
    " "
   ]
  },
  {
   "cell_type": "code",
   "execution_count": 1,
   "metadata": {},
   "outputs": [
    {
     "name": "stdout",
     "output_type": "stream",
     "text": [
      "Populating the interactive namespace from numpy and matplotlib\n"
     ]
    }
   ],
   "source": [
    "%pylab inline"
   ]
  },
  {
   "cell_type": "code",
   "execution_count": 2,
   "metadata": {},
   "outputs": [
    {
     "data": {
      "text/plain": [
       "<matplotlib.legend.Legend at 0x1051189e8>"
      ]
     },
     "execution_count": 2,
     "metadata": {},
     "output_type": "execute_result"
    },
    {
     "data": {
      "image/png": "[encoded data removed]",
      "text/plain": [
       "<matplotlib.figure.Figure at 0x105091ba8>"
      ]
     },
     "metadata": {},
     "output_type": "display_data"
    }
   ],
   "source": [
    "N=100\n",
    "z0=2.0\n",
    "z=linspace(0,1.5,N)\n",
    "\n",
    "def leftS(z):\n",
    "    return cos(z)\n",
    "\n",
    "def rightS(z,z0=z0):\n",
    "    return z/z0\n",
    "\n",
    "def f(z,z0=z0):\n",
    "    return leftS(z)-rightS(z,z0)\n",
    "\n",
    "grid()\n",
    "title(\"Investigating $\\cos(z)=z/z_0$\")\n",
    "ylabel(\"left, right and difference\")\n",
    "xlabel(\"$z$\")\n",
    "plot(z,leftS(z),'r-',label='$\\cos(z)$')\n",
    "plot(z, rightS(z),'b-',label='$z/z_0$')\n",
    "plot(z, f(z),'g-', label='$\\cos(z)-z/z_0$')\n",
    "legend(loc=3)"
   ]
  },
  {
   "cell_type": "code",
   "execution_count": 3,
   "metadata": {},
   "outputs": [
    {
     "name": "stdout",
     "output_type": "stream",
     "text": [
      "Found root 1.02986652932 in 3 iterations. y= 0.0\n"
     ]
    }
   ],
   "source": [
    "def fp(z):\n",
    "    \"\"\"\n",
    "    We need a function to evaluate the derivative of f(z) for Newton's method.\n",
    "    \"\"\"\n",
    "    return -sin(z)-1.0/z0\n",
    "\n",
    "def newtonsMethod(f, fp, zi, eps=1e-15, Nmax=100, showCount=False):\n",
    "    \"\"\"\n",
    "    Very simple implementation of Newton's Method.\n",
    "    Try to find a zero of 'f' near zi to within eps.\n",
    "    Don't use up over Nmax iterations\n",
    "    \"\"\"\n",
    "\n",
    "    z=zi        # start at zi\n",
    "    y=f(z)      # evaluate y\n",
    "    count=0     # start count at zero\n",
    "    \n",
    "    while (abs(y)>eps) and count<Nmax:\n",
    "        dz=y/fp(z)  # evaluate dz\n",
    "        z=z-dz      # update z\n",
    "        y=f(z)      # update y\n",
    "        count += 1  # update count\n",
    "        \n",
    "    if count>=Nmax:\n",
    "        raise RuntimeError(\"Ack! I can't find a zero.\")\n",
    "    elif showCount:\n",
    "        print( \"Found root\", z, \"in\", count, \"iterations. y=\", y)\n",
    "        \n",
    "    return z\n",
    "\n",
    "z = newtonsMethod(f, fp, 1.0, showCount=True)\n"
   ]
  },
  {
   "cell_type": "code",
   "execution_count": 4,
   "metadata": {},
   "outputs": [
    {
     "name": "stdout",
     "output_type": "stream",
     "text": [
      "1.0298665293222566\n"
     ]
    }
   ],
   "source": [
    "from scipy.optimize import brentq\n",
    "print (brentq(f, 0.9, 1.1))"
   ]
  },
  {
   "cell_type": "markdown",
   "metadata": {},
   "source": [
    "Suppose we have some potential function and we want to find a \"bound state\" wavefunction that satisfies the boundary conditions of the potential. There are of course many different possible potentials that could be considered. Let's focus on a class that goes to infinity for $x<0$ and $x>L$. Between those limits the potential is defined by a function $V(x)$.\n",
    "\n",
    "We can ues RK4 to integrate from $x=0$ to $x=L$. What shall we integrate? The Schrodinger Wave Equation of course!\n",
    "\n",
    "$$-\\frac{\\hbar^2}{2m} \\psi''(x) + V(x)\\psi(x) = E\\psi(x)$$\n",
    "\n",
    "$$\\psi'' = \\frac{2m}{\\hbar^2}\\left(V(x)-E\\right)\\psi(x)$$\n"
   ]
  },
  {
   "cell_type": "code",
   "execution_count": 5,
   "metadata": {},
   "outputs": [
    {
     "data": {
      "text/plain": [
       "[<matplotlib.lines.Line2D at 0x10663df28>]"
      ]
     },
     "execution_count": 5,
     "metadata": {},
     "output_type": "execute_result"
    },
    {
     "data": {
      "image/png": "[encoded data removed]",
      "text/plain": [
       "<matplotlib.figure.Figure at 0x10663dfd0>"
      ]
     },
     "metadata": {},
     "output_type": "display_data"
    }
   ],
   "source": [
    "def V(x, a=3.0):\n",
    "    \"\"\"\n",
    "    Here's an example potential V(x)=0.0\n",
    "    \"\"\"\n",
    "    return 0.0\n",
    "\n",
    "psi0, psip0 = 0.0, 1.0   # start psi and psi'  at $x=0$.\n",
    "s=array([psi0, psip0])\n",
    "\n",
    "hbar=1.0  # pick convenient units\n",
    "m=1.0\n",
    "L=1.0\n",
    "\n",
    "x=0.0\n",
    "dx=L/20\n",
    "E=0.90*(hbar**2/(2*m))*(pi/L)**2  # start at 90% of known ground state energy.\n",
    "\n",
    "xList=[x]         # put in the first value\n",
    "psiList=[psi0]\n",
    "\n",
    "def RK4Step(s, x, derivs, dx, E):\n",
    "    \"\"\"\n",
    "    Take a single RK4 step. (our old friend)\n",
    "    But this time we're integrating in 'x', not 't'.\n",
    "    \"\"\"\n",
    "    dxh=dx/2.0\n",
    "    f1 = derivs(s, x, E)\n",
    "    f2 = derivs(s+f1*dxh, x+dxh, E)\n",
    "    f3 = derivs(s+f2*dxh, x+dxh, E)\n",
    "    f4 = derivs(s+f3*dx, x+dx, E)\n",
    "    return s + (f1+2*f2+2*f3+f4)*dx/6.0\n",
    "\n",
    "def SWE_derivs(s, x, E):\n",
    "    psi=s[0]\n",
    "    psip=s[1]\n",
    "    \n",
    "    psipp =(2*m/hbar**2)*(V(x)-E)*psi\n",
    "    return array([psip, psipp])\n",
    "\n",
    "while x<=L:\n",
    "    s=RK4Step(s, x, SWE_derivs, dx, E)\n",
    "    x+=dx\n",
    "    xList.append(x)\n",
    "    psiList.append(s[0])\n",
    "    \n",
    "title(\"Test Wave Function at Energy %3.2f\" % E)\n",
    "ylabel(\"$\\psi(x)$ (un-normalized)\")\n",
    "xlabel(\"$x$\")\n",
    "plot(xList, psiList, 'b-')"
   ]
  },
  {
   "cell_type": "code",
   "execution_count": 6,
   "metadata": {},
   "outputs": [],
   "source": [
    "def calcBC(E):\n",
    "    \"\"\"\n",
    "    Compute the value of psi(x) at x=L for a given value of E\n",
    "    assuming psi(0) is zero.\n",
    "    \"\"\"\n",
    "    s=array([psi0, psip0])\n",
    "    x=0.0\n",
    "    while x<L:\n",
    "        s=RK4Step(s, x, SWE_derivs, dx, E)\n",
    "        x+=dx\n",
    "\n",
    "    return s[0]\n"
   ]
  },
  {
   "cell_type": "code",
   "execution_count": 7,
   "metadata": {},
   "outputs": [
    {
     "name": "stdout",
     "output_type": "stream",
     "text": [
      "BC at E=4.4: 0.0587332910815\n",
      "BC at E=5.4: -0.0438840967043\n"
     ]
    }
   ],
   "source": [
    "print (\"BC at E=4.4:\",calcBC(4.4))\n",
    "print (\"BC at E=5.4:\",calcBC(5.4))"
   ]
  },
  {
   "cell_type": "code",
   "execution_count": 8,
   "metadata": {},
   "outputs": [
    {
     "data": {
      "text/plain": [
       "4.9348518337322735"
      ]
     },
     "execution_count": 8,
     "metadata": {},
     "output_type": "execute_result"
    }
   ],
   "source": [
    "Ezero = brentq(calcBC, 4.4, 5.4)  # find \"root\" with brentq\n",
    "Ezero"
   ]
  },
  {
   "cell_type": "code",
   "execution_count": 9,
   "metadata": {},
   "outputs": [
    {
     "name": "stdout",
     "output_type": "stream",
     "text": [
      "4.934802200544679\n"
     ]
    }
   ],
   "source": [
    "print( ((hbar**2)/(2*m))*(pi/L)**2  )# exact result"
   ]
  },
  {
   "cell_type": "code",
   "execution_count": 10,
   "metadata": {},
   "outputs": [
    {
     "data": {
      "text/plain": [
       "[<matplotlib.lines.Line2D at 0x106ae8780>]"
      ]
     },
     "execution_count": 10,
     "metadata": {},
     "output_type": "execute_result"
    },
    {
     "data": {
      "image/png": "[encoded data removed]",
      "text/plain": [
       "<matplotlib.figure.Figure at 0x106a1f128>"
      ]
     },
     "metadata": {},
     "output_type": "display_data"
    }
   ],
   "source": [
    "def calcBC_wPsi(E):\n",
    "    \"\"\"\n",
    "    Compute the value of psi(x) at x=L for a given value of E\n",
    "    assuming psi(0) is zero.\n",
    "    \"\"\"\n",
    "    s=array([psi0, psip0])\n",
    "    x=0.0\n",
    "    xList=[x]\n",
    "    psiList=[psi0]\n",
    "    \n",
    "    while x<L:\n",
    "        s=RK4Step(s, x, SWE_derivs, dx, E)\n",
    "        x+=dx\n",
    "        xList.append(x)\n",
    "        psiList.append(s[0])\n",
    "\n",
    "    return xList, psiList\n",
    "\n",
    "xList, psiList = calcBC_wPsi(Ezero)\n",
    "plot(xList, psiList, 'b-')"
   ]
  },
  {
   "cell_type": "markdown",
   "metadata": {},
   "source": [
    "Project 9: (Option A) Find Energy States of a Different Potential\n",
    "==============================\n",
    "\n",
    "1. Pick a different potential. \n",
    "2. Modify the code provided to compute energy states of this potential.\n",
    "3. Produce graphs of the wavefunction in a few energy states\n",
    "4. Find some way to validate your results.\n",
    "\n",
    "Project 9: (Option B) Find the angle of a \"Swing Ride\"\n",
    "=============================\n",
    "\n",
    "You've no doubt seen a \"swing ride\" like so:\n",
    "\n",
    "![Swing Ride](http://www.newridesforsale.com/wp-content/uploads/2015/08/Beston-sky-swings-tower-ride.jpg)\n",
    "\n",
    "1. Write out the momentum principle for a rider. \n",
    "\n",
    "2. Assume the mount point of chain is 3m from the axis and the chain is 5m long. Assume the ride has a period of rotation of 3 sec.\n",
    "\n",
    "3. Find a transcendental equation that you can solve to get the angle of the swing.\n",
    "\n",
    "4. Use Newon's Method to find the solution\n",
    "\n",
    "5. Use the scipy.optimize brentq function to check your result.\n",
    "\n",
    "Here is a rough diagram of the sitution:\n",
    "\n",
    "![swing diagram](imgs/SwingRideRootFinding.png)\n",
    "\n",
    "Of course the momentum principle says:\n",
    "\n",
    "$$\\frac{d\\vec{p}}{dt} = \\vec{F}_{\\rm net}$$\n",
    "\n",
    "Which, if you break it down into $x$ and $y$ componenets gives:\n",
    "\n",
    "$$ \\frac{m v^2}{R} = T \\sin \\theta $$\n",
    "\n",
    "(where $\\theta$ is the unknown angle between the vertical and the swing chain) and\n",
    "\n",
    "$$ 0 = T \\cos \\theta - m g $$\n",
    "\n",
    "Also, from the geometry:\n",
    "\n",
    "$$ R = L + C \\sin \\theta $$\n",
    "\n",
    "And so you have three unknown values: $R$, $T$ and $\\theta$ ($m$ will cancel). You should be able to reduce this to one equation which you can solve by root finding.\n",
    "\n",
    "Project 9: (Option C) Apply Root finding to any other problem: Surprise me!\n",
    "=========================================\n",
    "\n",
    "Just find any problem you like that results in a transcendental equation. Use some kind of sensible plan to find the roots of that equation in the context of the problem you've found.\n",
    "\n"
   ]
  },
  {
   "cell_type": "code",
   "execution_count": null,
   "metadata": {},
   "outputs": [],
   "source": []
  }
 ],
 "metadata": {
  "kernelspec": {
   "display_name": "Python 3",
   "language": "python",
   "name": "python3"
  },
  "language_info": {
   "codemirror_mode": {
    "name": "ipython",
    "version": 3
   },
   "file_extension": ".py",
   "mimetype": "text/x-python",
   "name": "python",
   "nbconvert_exporter": "python",
   "pygments_lexer": "ipython3",
   "version": "3.6.5"
  }
 },
 "nbformat": 4,
 "nbformat_minor": 1
}
