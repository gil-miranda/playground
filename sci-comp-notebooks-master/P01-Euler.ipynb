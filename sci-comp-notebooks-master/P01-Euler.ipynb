{
 "cells": [
  {
   "cell_type": "markdown",
   "metadata": {},
   "source": [
    "The Euler Method\n",
    "================\n",
    "\n",
    "This notebook is a introduction to the *Euler Method*.\n",
    "\n",
    "Imagine you have a system described by a \"state\" **s**. The idea is that **s** is the collection of all the variables that are needed to specify the system's condition at some moment in time. If you know **s** at some time, then you know all you need to know to understand what the system is doing at that time. The idea is that there is some rule that determines the rate of change of **s** that depends on **s**, and possibly also on the time like so:\n",
    "\n",
    "$$\\frac{ds}{dt} = f_s(s,t)$$\n",
    "    \n",
    "So.. if we have a rule like this, and we know the state of the system now, Euler's method allows us to estimate the state at a later time. How? Simple.. $f_s(s,t)$ is telling us the rate of change of **s** itself. So, if a short period of time $\\Delta t$ passes what should be the corresponding change in s (called $\\Delta s$)?\n",
    "\n",
    "$$\\frac{\\Delta s}{\\Delta t} \\approx \\frac{ds}{dt} = f_s(s,t)$$\n",
    "\n",
    "Solving for $\\Delta{s}$ gives:\n",
    "\n",
    "$$\\Delta s \\approx f_s(s,t) \\Delta t$$\n",
    "\n",
    "That's the *Euler Method*! The only thing left is to add $\\Delta s$ to the old value of **s**, and repeat the process many times until you get the value of s at some later time.\n",
    "\n",
    "$$s_{\\rm new} = s_{\\rm old} + \\Delta s$$\n",
    "    \n",
    "Let's work out a detailed example 'by hand'...\n",
    "\n",
    "Example: Decay\n",
    "--------------\n",
    "\n",
    "First.. the worlds simplest example: Radioactive Decay. In radioactive decay the rate of decay is proportional to the number of radioactive nuclei in the sample at any given time.\n",
    "\n",
    "**s** = number of nuclei left\n",
    "\n",
    "$$\\frac{ds}{dt} = f_s(s,t) = - \\lambda s$$\n",
    "    \n",
    "Let's say we start with s=100 nuclei, $\\lambda=0.01$ (1 per 100 seconds of time per source nucleon). How many nuclei will be left after 10 seconds?  \n",
    "\n",
    "$\\frac{ds}{dt}$ will be $-\\lambda s = -(0.01 s^{-1})(100n) = -1 n/s$\n",
    "\n",
    "$s + \\Delta s = 100n + (-1n/s) (10s) = 90$ nuclei remaining.\n",
    "\n",
    "Below is the simplest python program that implements this calculation and prints the results\n"
   ]
  },
  {
   "cell_type": "code",
   "execution_count": 1,
   "metadata": {},
   "outputs": [
    {
     "name": "stdout",
     "output_type": "stream",
     "text": [
      "t     s\n",
      "0.0 100.0\n",
      "1.0 99.0\n",
      "2.0 98.01\n",
      "3.0 97.02990000000001\n",
      "4.0 96.05960100000001\n",
      "5.0 95.09900499000001\n",
      "6.0 94.14801494010001\n",
      "7.0 93.20653479069901\n",
      "8.0 92.27446944279203\n",
      "9.0 91.3517247483641\n",
      "10.0 90.43820750088047\n"
     ]
    }
   ],
   "source": [
    "#\n",
    "# Simple python program to calculate s as a function of t. \n",
    "# Any line that begins with a '#' is a comment.\n",
    "# Anything in a line after the '#' is a comment.\n",
    "#\n",
    "\n",
    "lam=0.01            # define some variables: lam, dt, s, s0 and t. Set initial values.\n",
    "dt=1.0\n",
    "s=s0=100.0\n",
    "t=0.0\n",
    "\n",
    "def f_s(s,t):         # define a function that describes the rate of change of 's'\n",
    "    return -lam*s\n",
    "\n",
    "print ('t     s')     # print a header for the table of data\n",
    "for i in range(11):\n",
    "    print (t,s)       # iterate through 11 steps, starting at 0\n",
    "    ds = f_s(s,t)*dt  # compute the change in 's' using the 'rule' that ds/dt = f(s,t)\n",
    "    s = s + ds      # update s\n",
    "    t = t + dt      # update t\n"
   ]
  },
  {
   "cell_type": "markdown",
   "metadata": {},
   "source": [
    "Now lets add a plot. Turn on the \"pylab\" environment:"
   ]
  },
  {
   "cell_type": "code",
   "execution_count": 2,
   "metadata": {},
   "outputs": [
    {
     "name": "stdout",
     "output_type": "stream",
     "text": [
      "Populating the interactive namespace from numpy and matplotlib\n"
     ]
    }
   ],
   "source": [
    "%pylab inline"
   ]
  },
  {
   "cell_type": "markdown",
   "metadata": {},
   "source": [
    "Good! Next collect some lists of data (slist and tlist) and use the \"plot\" function to display the values graphically."
   ]
  },
  {
   "cell_type": "code",
   "execution_count": 3,
   "metadata": {},
   "outputs": [
    {
     "name": "stdout",
     "output_type": "stream",
     "text": [
      "t     s\n",
      "tlist= [0.0, 1.0, 2.0, 3.0, 4.0, 5.0, 6.0, 7.0, 8.0, 9.0, 10.0, 11.0]\n",
      "slist= [100.0, 99.0, 98.01, 97.02990000000001, 96.05960100000001, 95.09900499000001, 94.14801494010001, 93.20653479069901, 92.27446944279203, 91.3517247483641, 90.43820750088047, 89.53382542587165]\n",
      "exact [100.          99.00498337  98.01986733  97.04455335  96.07894392\n",
      "  95.12294245  94.17645336  93.23938199  92.31163464  91.39311853\n",
      "  90.4837418   89.58341353]\n"
     ]
    }
   ],
   "source": [
    "slist=[]\n",
    "tlist=[]\n",
    "\n",
    "lam=0.01\n",
    "dt=1.0\n",
    "s=s0=100.0\n",
    "t=0.0\n",
    "\n",
    "tlist.append(t)\n",
    "slist.append(s)\n",
    "\n",
    "print ('t     s')\n",
    "for i in range(11):\n",
    "    s += f_s(s,t)*dt\n",
    "    t += dt\n",
    "    tlist.append(t)\n",
    "    slist.append(s)\n",
    "\n",
    "#plot(tlist, slist, 'b.', tlist, 100.0*exp(-lam*array(tlist)))\n",
    "print (\"tlist=\", tlist)\n",
    "print (\"slist=\", slist)\n",
    "\n",
    "exact = s0*exp(-lam*array(tlist))\n",
    "print (\"exact\", exact)"
   ]
  },
  {
   "cell_type": "markdown",
   "metadata": {},
   "source": [
    " Now, during the \"in class\" work time this week we'll pretty this up and compare to our analytical solution."
   ]
  },
  {
   "cell_type": "code",
   "execution_count": 4,
   "metadata": {},
   "outputs": [
    {
     "data": {
      "text/plain": [
       "[<matplotlib.lines.Line2D at 0x108fb0c50>,\n",
       " <matplotlib.lines.Line2D at 0x10900dbe0>]"
      ]
     },
     "execution_count": 4,
     "metadata": {},
     "output_type": "execute_result"
    },
    {
     "data": {
      "image/png": "[encoded data removed]",
      "text/plain": [
       "<Figure size 432x288 with 1 Axes>"
      ]
     },
     "metadata": {},
     "output_type": "display_data"
    }
   ],
   "source": [
    "title('Decay Results')\n",
    "xlabel('time (s)')\n",
    "ylabel('n (nuclei)')\n",
    "plot(tlist, slist, 'b.', tlist, exact, 'r-')"
   ]
  },
  {
   "cell_type": "markdown",
   "metadata": {},
   "source": [
    "# Below are two project options. \n",
    "\n",
    "You should be aware that for every project in this course you can *always* create your own\n",
    "project studying your own favorite topic so long as the project uses the same computational \n",
    "approach that we're exploring in a given week (e.g., the Euler Algorithm, etc.).\n",
    "\n",
    "Project 1, version A: The Euler Method\n",
    "============================\n",
    "\n",
    "Use the Euler method to estimate parameters of a free fall model.\n",
    "\n",
    "Using data from this slide: [https://physlets.org/tracker/download/air_resistance.pdf](https://physlets.org/tracker/download/air_resistance.pdf)\n",
    "\n",
    "And the following model:\n",
    "\n",
    "$$ +b v^2 - m g = m \\frac{dv}{dt}$$\n",
    "\n",
    "Assuming the mass is $m\\approx 3.5\\,{\\rm g}$ and $g\\approx 9.8\\,{\\rm m/s}$, estimate the value of the parameter $b$.\n",
    "\n",
    "Below you will find most of the code already worked out as a detailed example. You need to read the code and understand what it's doing. If you have questions, **ASK!**\n"
   ]
  },
  {
   "cell_type": "code",
   "execution_count": 5,
   "metadata": {},
   "outputs": [
    {
     "name": "stdout",
     "output_type": "stream",
     "text": [
      "We have 30 data points.\n"
     ]
    }
   ],
   "source": [
    "#\n",
    "# Here is the raw data for the position of the muffin cup as a function of time. Use the \"split\" function to break it into\n",
    "# a list of (possibly empty) strings.\n",
    "#\n",
    "\n",
    "data = \"\"\"0.000000000E0\t-2.688162330E0\n",
    "3.336670003E-2\t-4.301059729E0\n",
    "6.673340007E-2\t-5.376324661E0\n",
    "1.001001001E-1\t-6.989222059E0\n",
    "1.334668001E-1\t-1.129028179E1\n",
    "1.668335002E-1\t-1.451607658E1\n",
    "2.002002002E-1\t-2.043003371E1\n",
    "2.335669002E-1\t-2.526872591E1\n",
    "2.669336003E-1\t-3.118268303E1\n",
    "3.003003003E-1\t-3.870953756E1\n",
    "3.336670003E-1\t-4.623639208E1\n",
    "3.670337004E-1\t-5.430087907E1\n",
    "4.004004004E-1\t-6.236536606E1\n",
    "4.337671004E-1\t-7.150511799E1\n",
    "4.671338005E-1\t-8.010723744E1\n",
    "5.005005005E-1\t-8.924698937E1\n",
    "5.338672005E-1\t-9.892437376E1\n",
    "5.672339006E-1\t-1.080641257E2\n",
    "6.006006006E-1\t-1.177415101E2\n",
    "6.339673006E-1\t-1.274188945E2\n",
    "6.673340007E-1\t-1.370962788E2\n",
    "7.007007007E-1\t-1.467736632E2\n",
    "7.340674007E-1\t-1.575263126E2\n",
    "7.674341008E-1\t-1.672036969E2\n",
    "8.008008008E-1\t-1.768810813E2\n",
    "8.341675008E-1\t-1.865584657E2\n",
    "8.675342009E-1\t-1.973111150E2\n",
    "9.009009009E-1\t-2.075261319E2\n",
    "9.342676009E-1\t-2.182787812E2\n",
    "9.676343010E-1\t-2.284937981E2\n",
    "\"\"\".splitlines()  # split this string on the \"newline\" character.\n",
    "\n",
    "print(\"We have\", len(data), \"data points.\")\n"
   ]
  },
  {
   "cell_type": "code",
   "execution_count": 6,
   "metadata": {},
   "outputs": [
    {
     "name": "stdout",
     "output_type": "stream",
     "text": [
      "tlist= [0.0, 0.03336670003, 0.06673340007, 0.1001001001, 0.1334668001, 0.1668335002, 0.2002002002, 0.2335669002, 0.2669336003, 0.3003003003, 0.3336670003, 0.3670337004, 0.4004004004, 0.4337671004, 0.4671338005, 0.5005005005, 0.5338672005, 0.5672339006, 0.6006006006, 0.6339673006, 0.6673340007, 0.7007007007, 0.7340674007, 0.7674341008, 0.8008008008, 0.8341675008, 0.8675342009, 0.9009009009, 0.9342676009, 0.967634301]\n",
      "ylist= [-0.0268816233, -0.04301059729, -0.05376324661, -0.06989222059, -0.1129028179, -0.1451607658, -0.2043003371, -0.2526872591, -0.3118268303, -0.3870953756, -0.4623639208, -0.5430087907, -0.6236536606, -0.7150511799, -0.8010723744, -0.8924698937, -0.9892437376, -1.0806412570000001, -1.177415101, -1.274188945, -1.370962788, -1.4677366319999998, -1.575263126, -1.672036969, -1.768810813, -1.865584657, -1.97311115, -2.075261319, -2.182787812, -2.284937981]\n"
     ]
    }
   ],
   "source": [
    "#\n",
    "# Here we'll take the list of strings defined above and break it into actual numbers in reasonable units.\n",
    "#\n",
    "\n",
    "tlist = []\n",
    "ylist = []\n",
    "for s in data:\n",
    "    t,y = s.split()     # break string in two\n",
    "    t=float(t)          # convert time to float\n",
    "    y=float(y)/100.0    # convert distanct (in meters) to float\n",
    "    tlist.append(t)\n",
    "    ylist.append(y)\n",
    "        \n",
    "print (\"tlist=\",tlist)\n",
    "print (\"ylist=\",ylist)\n"
   ]
  },
  {
   "cell_type": "code",
   "execution_count": 7,
   "metadata": {},
   "outputs": [
    {
     "data": {
      "text/plain": [
       "[<matplotlib.lines.Line2D at 0x109117b70>]"
      ]
     },
     "execution_count": 7,
     "metadata": {},
     "output_type": "execute_result"
    },
    {
     "data": {
      "image/png": "[encoded data removed]",
      "text/plain": [
       "<Figure size 432x288 with 1 Axes>"
      ]
     },
     "metadata": {},
     "output_type": "display_data"
    }
   ],
   "source": [
    "plot(tlist, ylist)"
   ]
  },
  {
   "cell_type": "code",
   "execution_count": 8,
   "metadata": {},
   "outputs": [
    {
     "data": {
      "text/plain": [
       "[<matplotlib.lines.Line2D at 0x109173f98>]"
      ]
     },
     "execution_count": 8,
     "metadata": {},
     "output_type": "execute_result"
    },
    {
     "data": {
      "image/png": "[encoded data removed]",
      "text/plain": [
       "<Figure size 432x288 with 1 Axes>"
      ]
     },
     "metadata": {},
     "output_type": "display_data"
    }
   ],
   "source": [
    "vlist = []  # Velocity list (computed velocities from experimental data)\n",
    "tvlist = []  # time list (times for corresponding velocities)\n",
    "for i in range(1,len(tlist)):\n",
    "    dy=ylist[i]-ylist[i-1]\n",
    "    dt=tlist[i]-tlist[i-1]\n",
    "    vlist.append(dy/dt)\n",
    "    tvlist.append((tlist[i]+tlist[i-1])/2.0)\n",
    "    \n",
    "plot(tvlist,vlist,'g.')"
   ]
  },
  {
   "cell_type": "code",
   "execution_count": 9,
   "metadata": {},
   "outputs": [
    {
     "data": {
      "text/plain": [
       "[<matplotlib.lines.Line2D at 0x1091a94a8>,\n",
       " <matplotlib.lines.Line2D at 0x1091d3a90>]"
      ]
     },
     "execution_count": 9,
     "metadata": {},
     "output_type": "execute_result"
    },
    {
     "data": {
      "image/png": "[encoded data removed]",
      "text/plain": [
       "<Figure size 432x288 with 1 Axes>"
      ]
     },
     "metadata": {},
     "output_type": "display_data"
    }
   ],
   "source": [
    "m=0.0035  # kg\n",
    "g=9.8     # m/s\n",
    "b=0.001    # total guess, need to improve\n",
    "\n",
    "v=0.0     # start with zero velocity\n",
    "\n",
    "dt = (tlist[-1]-tlist[0])/(len(tlist)-1)  # time per frame in original video\n",
    "t=0.0\n",
    "\n",
    "vclist = [v]\n",
    "tclist = [t]\n",
    "\n",
    "def deriv(v, t):\n",
    "    return b*v**2/m - g\n",
    "\n",
    "for i in range(len(tlist)):\n",
    "    dv = deriv(v,t)*dt\n",
    "    v += dv\n",
    "    t += dt\n",
    "    \n",
    "    vclist.append(v)\n",
    "    tclist.append(t)\n",
    "    \n",
    "title(\"Comparison of experimental and drag model\")\n",
    "xlabel(\"time(s)\")\n",
    "ylabel(\"velocity (m/s)\")\n",
    "plot(tclist, vclist, 'r-',tvlist,vlist,'g.')\n"
   ]
  },
  {
   "cell_type": "markdown",
   "metadata": {},
   "source": [
    "So, clearly our initial guess of \"b\" was too small, try again!..\n",
    "\n",
    "ALSO, **bonus points** if you work out the analytical solution for $v(t)$ and compare that with the Euler Model result.\n"
   ]
  },
  {
   "cell_type": "markdown",
   "metadata": {},
   "source": [
    "Project 1, version B: The Euler Method\n",
    "============================\n",
    "\n",
    "Come up with any system of your own devising that can be studied using the Euler Algorithm. Basically\n",
    "this is any system where the behavior can be described using a first order differential equation.\n",
    "This include lots of interesting proplems! Dig around a little and find something you're interested\n",
    "in and use that. As long as you use the Euler Algorithm, it'll be fine.\n",
    "\n"
   ]
  },
  {
   "cell_type": "code",
   "execution_count": null,
   "metadata": {},
   "outputs": [],
   "source": []
  }
 ],
 "metadata": {
  "kernelspec": {
   "display_name": "Python 3",
   "language": "python",
   "name": "python3"
  },
  "language_info": {
   "codemirror_mode": {
    "name": "ipython",
    "version": 3
   },
   "file_extension": ".py",
   "mimetype": "text/x-python",
   "name": "python",
   "nbconvert_exporter": "python",
   "pygments_lexer": "ipython3",
   "version": "3.6.5"
  }
 },
 "nbformat": 4,
 "nbformat_minor": 1
}
