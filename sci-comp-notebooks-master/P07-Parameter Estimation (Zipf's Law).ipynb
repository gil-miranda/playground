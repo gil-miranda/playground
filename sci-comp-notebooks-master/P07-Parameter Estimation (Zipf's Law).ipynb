{
 "cells": [
  {
   "cell_type": "markdown",
   "metadata": {},
   "source": [
    "Power Law Distributions: Zipf's Law\n",
    "=======================\n",
    "\n",
    "(Note: Be sure to either download the data that goes with this notebook or uncomment/edit the lines below needed to get your own data before executing the code in this notebook.)\n",
    "\n",
    "It turns out that \"power law\" distributions are ubitquitous in nature, see:\n",
    "\n",
    "1 [http://arxiv.org/abs/cond-mat/0412004](http://arxiv.org/abs/cond-mat/0412004)\n",
    "\n",
    "2 [https://arxiv.org/abs/1812.09662](https://arxiv.org/abs/1812.09662)\n",
    "\n",
    "In the next feww cells of this notebook I measure the number of files of different sizes on my hard disk. Then I proceed to quantify (in the simples possible way) the distribution of file sizes in a certain range as a power law distribution.\n"
   ]
  },
  {
   "cell_type": "code",
   "execution_count": 1,
   "metadata": {},
   "outputs": [
    {
     "name": "stdout",
     "output_type": "stream",
     "text": [
      "Populating the interactive namespace from numpy and matplotlib\n"
     ]
    }
   ],
   "source": [
    "%pylab inline\n",
    "\n",
    "import pandas as pd                    # pandas is the \"python data analysis package\"\n",
    "import os                              # operating system services\n",
    "from scipy.optimize import curve_fit   # non-linear curve fitting"
   ]
  },
  {
   "cell_type": "code",
   "execution_count": 2,
   "metadata": {},
   "outputs": [],
   "source": [
    "def getFileSizes(folder, minsize=2000, maxsize=10**9):\n",
    "    \"\"\"\n",
    "    return a list of file sizes in a folder\n",
    "    \"\"\"\n",
    "    sizes = []\n",
    "    for (path, dirs, files) in os.walk(folder):\n",
    "        for file in files:\n",
    "            try:\n",
    "                filename = os.path.join(path, file)\n",
    "                size=os.path.getsize(filename)\n",
    "                if size>minsize and size<maxsize:\n",
    "                    sizes.append(size)\n",
    "            except OSError:\n",
    "                pass\n",
    "    return sizes"
   ]
  },
  {
   "cell_type": "code",
   "execution_count": 3,
   "metadata": {},
   "outputs": [],
   "source": [
    "if 0: # set this to \"1\" to actaully collect data, but edit the paths to match your computer.\n",
    "    minsize=10**4  # the minimum file size to consider\n",
    "    maxsize=10**10 # the maximum file size to consider\n",
    "    sizes = getFileSizes('/Users/steve/Desktop',minsize,maxsize) # <--- edit this to match some folder with a lot of files\n",
    "    print(len(sizes), 'files between', minsize, 'and', maxsize)"
   ]
  },
  {
   "cell_type": "code",
   "execution_count": 8,
   "metadata": {},
   "outputs": [],
   "source": [
    "\n",
    "if 0: # set this to \"1\" to write the file\n",
    "    df=pd.DataFrame({'file_sizes':sizes})\n",
    "    df.to_csv('myData.csv', sep=',')\n",
    "else: # read the file\n",
    "    df=pd.read_csv('myData.csv')\n",
    "    df.head()\n",
    "    sizes = df.file_sizes"
   ]
  },
  {
   "cell_type": "code",
   "execution_count": 9,
   "metadata": {},
   "outputs": [
    {
     "data": {
      "image/png": "[encoded data removed]",
      "text/plain": [
       "<Figure size 432x288 with 1 Axes>"
      ]
     },
     "metadata": {
      "needs_background": "light"
     },
     "output_type": "display_data"
    }
   ],
   "source": [
    "ns,bins,patches = hist(log(array(sizes)+1),40)"
   ]
  },
  {
   "cell_type": "code",
   "execution_count": 10,
   "metadata": {},
   "outputs": [
    {
     "data": {
      "text/plain": [
       "[<matplotlib.lines.Line2D at 0x11f044c50>]"
      ]
     },
     "execution_count": 10,
     "metadata": {},
     "output_type": "execute_result"
    },
    {
     "data": {
      "image/png": "[encoded data removed]",
      "text/plain": [
       "<Figure size 432x288 with 1 Axes>"
      ]
     },
     "metadata": {
      "needs_background": "light"
     },
     "output_type": "display_data"
    }
   ],
   "source": [
    "xvals=(bins[:-1]+bins[1:])/2.0\n",
    "counts=ns+0.5\n",
    "yvals=log(counts)\n",
    "title(\"distribution of file sizes\")\n",
    "ylabel(\"log(count)\")\n",
    "xlabel(\"log(size)\")\n",
    "plot(xvals,yvals,'b.')"
   ]
  },
  {
   "cell_type": "markdown",
   "metadata": {},
   "source": [
    "Uncertainties in the Parameters\n",
    "-------------------------------\n",
    "\n",
    "There are a variety of techniques for estimating the uncertainty in the parameters you compute. The approach we'll take is one of the more \"brute force\" approaches, but it's pretty robust. We're going to fabricate data that has the same statistics as our original data (do the degree that we know and/or care). Then we'll fit the fabricated data many times (1000 times in this case) and we'll look at the statistics of the fit parameters produced. From this we can tell how well our fit has done at narrowing down the parameters we computed.\n"
   ]
  },
  {
   "cell_type": "code",
   "execution_count": null,
   "metadata": {},
   "outputs": [],
   "source": [
    "#\n",
    "# Just to see same data fit using the non-linear scipy package \"curve_fit\":\n",
    "#\n",
    "\n",
    "def fLinear(x, m, b):\n",
    "    return m*x + b\n",
    "\n",
    "m0 = (yvals[-1]-yvals[0])/(xvals[-1]-xvals[0])  # estimate slope\n",
    "b0 = yvals[0] - m0*xvals[0]                     # estimate intercept\n",
    "sigma=1.0/sqrt(abs(counts))\n",
    "\n",
    "popt, pcov = curve_fit(fLinear, xvals, yvals, p0=(m0, b0), sigma=sigma)\n",
    "\n",
    "m=popt[0]          # slope\n",
    "dm=sqrt(pcov[0,0]) # sqrt(variance(slope))\n",
    "b=popt[1]          # int\n",
    "db=sqrt(pcov[1,1]) # sqrt(variance(int))\n",
    "ystar=fLinear(xvals, m, b)\n",
    "\n",
    "N=1000    # number of samples to take\n",
    "mList=[]  # keep track of monte-carlo fit parameters\n",
    "bList=[]\n",
    "\n",
    "for i in range(N):\n",
    "    \"\"\"\n",
    "    Generate mc data with the same statistical properties as the real data.\n",
    "    Repeat the fit for each set, and record the parameters.\n",
    "    \"\"\"\n",
    "    mcY = ystar + sigma*normal(size=len(xvals))  # generate fabricated data to fit\n",
    "    mcpopt, mcpcov = curve_fit(fLinear, xvals, mcY, p0=(m,b), sigma=sigma)\n",
    "    mList.append(mcpopt[0])  # store the fit paramters for the fab-data\n",
    "    bList.append(mcpopt[1])"
   ]
  },
  {
   "cell_type": "code",
   "execution_count": 15,
   "metadata": {},
   "outputs": [
    {
     "data": {
      "text/plain": [
       "(array([  5.,  28.,  84., 148., 221., 244., 163.,  77.,  22.,   8.]),\n",
       " array([-0.42264155, -0.41839819, -0.41415483, -0.40991147, -0.40566811,\n",
       "        -0.40142475, -0.3971814 , -0.39293804, -0.38869468, -0.38445132,\n",
       "        -0.38020796]),\n",
       " <a list of 10 Patch objects>)"
      ]
     },
     "execution_count": 15,
     "metadata": {},
     "output_type": "execute_result"
    },
    {
     "data": {
      "image/png": "[encoded data removed]",
      "text/plain": [
       "<Figure size 432x288 with 1 Axes>"
      ]
     },
     "metadata": {
      "needs_background": "light"
     },
     "output_type": "display_data"
    }
   ],
   "source": [
    "# check slope histogram\n",
    "\n",
    "hist(mList)"
   ]
  },
  {
   "cell_type": "code",
   "execution_count": 16,
   "metadata": {},
   "outputs": [
    {
     "data": {
      "text/plain": [
       "(array([  4.,  17.,  73., 137., 243., 246., 150.,  95.,  31.,   4.]),\n",
       " array([ 9.99334569, 10.0442998 , 10.0952539 , 10.146208  , 10.1971621 ,\n",
       "        10.2481162 , 10.2990703 , 10.3500244 , 10.4009785 , 10.4519326 ,\n",
       "        10.5028867 ]),\n",
       " <a list of 10 Patch objects>)"
      ]
     },
     "execution_count": 16,
     "metadata": {},
     "output_type": "execute_result"
    },
    {
     "data": {
      "image/png": "[encoded data removed]",
      "text/plain": [
       "<Figure size 432x288 with 1 Axes>"
      ]
     },
     "metadata": {
      "needs_background": "light"
     },
     "output_type": "display_data"
    }
   ],
   "source": [
    "# check intercept histogram\n",
    "\n",
    "hist(bList)"
   ]
  },
  {
   "cell_type": "code",
   "execution_count": 14,
   "metadata": {},
   "outputs": [
    {
     "name": "stdout",
     "output_type": "stream",
     "text": [
      "Slope= -0.4010129725637122 +/- 0.006878630059804975 ( -0.4078916026235172 , -0.3941343425039072 )\n",
      "Intercept= 10.251110169860413 +/- 0.08007907568969283 ( 9.941549243952434 , 10.331189245550105 )\n",
      "\n",
      "Compare to cov-matrix for fun:\n",
      "sqsrt(pcov[0,0]) (should be sigma m) 0.02675033478186744\n",
      "sqrt(pcov[1,1]) (should be sigma b) 0.30956092590797973\n"
     ]
    },
    {
     "data": {
      "image/png": "[encoded data removed]",
      "text/plain": [
       "<Figure size 432x288 with 1 Axes>"
      ]
     },
     "metadata": {
      "needs_background": "light"
     },
     "output_type": "display_data"
    }
   ],
   "source": [
    "#\n",
    "# Compute the statistics of the mc-results\n",
    "#\n",
    "\n",
    "marr=array(mList)\n",
    "barr=array(bList)\n",
    "\n",
    "mAvg = marr.mean()\n",
    "bAvg = barr.mean()\n",
    "sigM = marr.std()\n",
    "sigB = barr.std()\n",
    "\n",
    "errorbar(xvals, yvals, sigma, fmt='r.') \n",
    "title(\"File Sizes on My HD\")\n",
    "ylabel(\"log(count)\")\n",
    "xlabel(\"log(size)\")\n",
    "plot(xvals,ystar, 'g-')\n",
    "print(\"Slope=\", m, '+/-', sigM, \"(\", m-sigM,\",\",m+sigM, \")\")\n",
    "print(\"Intercept=\", b, '+/-', sigB, \"(\", b-db,\",\",b+sigB, \")\")\n",
    "\n",
    "print() # print a blank link\n",
    "print(\"Compare to cov-matrix for fun:\")\n",
    "print(\"sqsrt(pcov[0,0]) (should be sigma m)\", sqrt(pcov[0,0]))\n",
    "print(\"sqrt(pcov[1,1]) (should be sigma b)\", sqrt(pcov[1,1]))"
   ]
  },
  {
   "cell_type": "markdown",
   "metadata": {},
   "source": [
    "Project 7\n",
    "=========\n",
    "\n",
    "See this reference for other systems that exhibit power law behavior:\n",
    "\n",
    "<http://arxiv.org/abs/cond-mat/0412004>\n",
    "\n",
    "Or test your intuition and see if it's right. Many system exhibit this behavior!\n",
    "\n",
    "Get some data, and test your idea. Use the matrix technique to do the fitting."
   ]
  },
  {
   "cell_type": "markdown",
   "metadata": {},
   "source": [
    "Matrix Approach\n",
    "--------------------\n",
    "\n",
    "The remainder of this notebook details an approach to parameter estimation\n",
    "using matrices. If you're interested, you're welcme to use this approach to \n",
    "fit your data. It has the (minor) advantage that there are no \"black boxes\"\n",
    "like `curve_fit`. The underlying mathematics is open for your inspection! However\n",
    "it's also pretty mathematically \"heavy\" so, please use `curve_fit` if you prefer.\n"
   ]
  },
  {
   "cell_type": "markdown",
   "metadata": {},
   "source": [
    "Fitting Data with Matrices \n",
    "===========================\n",
    "\n",
    "We can see that we have something that looks like it might be a power law. How can we tell? We'll use \"linear least squares\" analysis.\n",
    "\n",
    "When fitting some experimental data to a model, there are typically\n",
    "a set of paramters $(\\alpha_1, \\alpha_2, \\ldots, \\alpha_n)$ that\n",
    "need to be found so that the function $\\chi^2$ is a minimum. \n",
    "We can think of the paramters as an n-vector called $\\alpha$. The\n",
    "data consist of a set of paired numbers $(x_i, y_i)$ and we can\n",
    "define $\\chi^2$ as \n",
    "\n",
    "\\begin{equation}\n",
    "\\chi^2 = \\sum_{i=1}^{m} {(y_i - y^\\star(x_i,\\alpha))^2\\over \\sigma_i^2},\n",
    "\\end{equation}\n",
    "\n",
    "where $\\sigma_i$ is the uncertainty in $y_i$, and $y^\\star$ is the\n",
    "model value corresponding to $x_i$ (and the value of the parameters\n",
    "$\\alpha$). If the model $y^\\star(x,\\vec\\alpha)$ is *linear* then we\n",
    "can write $y^\\star$ as:\n",
    "\n",
    "\\begin{equation}\n",
    "y^\\star (x) = \\alpha_1 X_1(x)+\\alpha_2 X_2(x)+\\ldots+\\alpha_n X_n(x).\n",
    "\\end{equation}\n",
    "\n",
    "or\n",
    "\n",
    "\\begin{equation}\n",
    "y^\\star(x) = \\sum_{j=1}^{n} \\alpha_j X_j(x),\n",
    "\\end{equation}\n",
    "\n",
    "where the $X_j$ are a set of functions that are to be superposed\n",
    "with coefficients $\\alpha_j$ to form the model. A common example\n",
    "of this would be a straight line fit $y^\\star(x) = mx+b$ where the\n",
    "functions are $x$ and 1 for the paramters $m$ and $b$ respectively.\n",
    "\n",
    "Notice that, since the $x$'s are at fixed measured values, this whole thing can be \n",
    "cast into a single matrix equation. If we define the following $M$ matrix:\n",
    "\n",
    "\\begin{equation}\n",
    "M_{ij} = X_j(x_i)\n",
    "\\end{equation}\n",
    "\n",
    "and if we think of $y^\\star$ as an $m$-vector of model \n",
    "values evaluated at the $m$ data points $x_i$ and $y$ as an \n",
    "experimental $m$-vector $y$, then the model vector\n",
    "can be evaluated by matrix multiplication as:\n",
    "\n",
    "\\begin{equation}\n",
    "y^\\star = M \\alpha\n",
    "\\end{equation}\n",
    "\n",
    "and the difference vector between the model and the data becomes simply\n",
    "\n",
    "\\begin{equation}\n",
    "y - y^\\star = y - M\\alpha\n",
    "\\end{equation}\n",
    "\n",
    "Finally we can write $\\chi^2$ as \n",
    "\n",
    "\\begin{equation}\n",
    "\\chi^2 = (y - M\\alpha)^T S (y - M\\alpha) \\,\\,\\,\\,\\,\\,\\,\\,(1)\n",
    "\\end{equation}\n",
    "\n",
    "where $S$ is a diagonal matrix of $1/\\sigma_i^2$ and\n",
    "the $T$ on the left side means \"transpose\".\n",
    "\n",
    "Now it is a simple matter to find the values of the paramters that\n",
    "minimize $\\chi^2$. We require that $\\nabla_{\\alpha}\\chi^2 = 0$. \n",
    "If you play around with this you can convince yourself that this means:\n",
    "\n",
    "\\begin{equation}\n",
    "M^T S(y - M\\alpha) = 0\n",
    "\\end{equation}\n",
    "\n",
    "and therefore:\n",
    "\n",
    "\\begin{equation}\n",
    "\\alpha = (M^T SM)^{-1}M^T S y.  \\,\\,\\,\\,\\,\\,\\,\\,(2)\n",
    "\\end{equation}"
   ]
  },
  {
   "cell_type": "code",
   "execution_count": 24,
   "metadata": {},
   "outputs": [
    {
     "data": {
      "text/plain": [
       "[<matplotlib.lines.Line2D at 0x10a6948d0>]"
      ]
     },
     "execution_count": 24,
     "metadata": {},
     "output_type": "execute_result"
    },
    {
     "data": {
      "image/png": "[encoded data removed]",
      "text/plain": [
       "<matplotlib.figure.Figure at 0x10a58bba8>"
      ]
     },
     "metadata": {},
     "output_type": "display_data"
    }
   ],
   "source": [
    "#\n",
    "# define the function values (these are the columns of the \"M\" matrix\n",
    "#\n",
    "# generate arrays that contain \"functions\" of x that are combined to form the model\n",
    "#\n",
    "\n",
    "def doFit(funcs, xvals, yvals, sigma):\n",
    "    \"\"\"\n",
    "    doFit uses matrices to solve for the linear least squares \n",
    "    fit parameters based on the list of 'funcs', and the x-y values\n",
    "    and their corresponding uncertainties (sigma).\n",
    "    \n",
    "    returns the array of model parameters\n",
    "    \"\"\"\n",
    "    #\n",
    "    # define the S matrix in terms of uncertainties\n",
    "    #\n",
    "    \n",
    "    S=diag((1.0/sigma)**2)\n",
    "    \n",
    "    #\n",
    "    # define the model matrix\n",
    "    #\n",
    "    \n",
    "    M = array(funcs).T\n",
    "    MtM = M.T.dot(S.dot(M))\n",
    "    MtMInv = inv(MtM)\n",
    "    MtY = M.T.dot(S.dot(yvals))\n",
    "    alpha = MtMInv.dot(MtY)      # see eq 2 above.\n",
    "    \n",
    "    #\n",
    "    # solve for the parameters, and return\n",
    "    #\n",
    "    ystar = M.dot(alpha)\n",
    "    \n",
    "    return (alpha, ystar, MtMInv)\n",
    "\n",
    "fx1 = ones(len(xvals))   # X_1(x) = 1\n",
    "fx2 = xvals              # X_2(x) = x\n",
    "\n",
    "sigma=1.0/sqrt(abs(counts))\n",
    "\n",
    "alpha, ystar, fcov = doFit([fx1, fx2], xvals, yvals, sigma)\n",
    "\n",
    "mFit = alpha[1]\n",
    "bFit = alpha[0]\n",
    "\n",
    "errorbar(xvals, yvals, sigma, fmt='r.') \n",
    "title(\"File Sizes on My HD\")\n",
    "ylabel(\"log(count)\")\n",
    "xlabel(\"log(size)\")\n",
    "plot(xvals,ystar, 'g-')\n"
   ]
  },
  {
   "cell_type": "code",
   "execution_count": 25,
   "metadata": {},
   "outputs": [
    {
     "name": "stdout",
     "output_type": "stream",
     "text": [
      "Slope= -0.401012972104 +/- 0.00676272823764 ( -0.407775700342 , -0.394250243866 )\n",
      "Intercept= 10.2511101646 +/- 0.078149615394 ( 10.1729605492 , 10.32925978 )\n",
      "Compare to cov-matrix for fun:\n",
      "sqsrt(cov[1,1]) (should be sigma m) 0.00691993760803\n",
      "sqrt(cov[0,0]) (should be sigma b) 0.080079083965\n"
     ]
    }
   ],
   "source": [
    "#\n",
    "# Now do monte-carlo data fabrication and fit analysis\n",
    "#\n",
    "\n",
    "N=1000    # number of samples to take\n",
    "mList=[]  # keep track of monte-carlo fit parameters\n",
    "bList=[]\n",
    "\n",
    "for i in range(N):\n",
    "    \"\"\"\n",
    "    Generate mc data with the same statistical properties as the real data.\n",
    "    Repeat the fit for each set, and record the parameters.\n",
    "    \"\"\"\n",
    "    mcY = ystar + sigma*normal(size=len(xvals))\n",
    "    mcAlpha,mcYstar,mccov = doFit([fx1,fx2],xvals,mcY,sigma)   # repeatedly fit mc data\n",
    "    mList.append(mcAlpha[1])\n",
    "    bList.append(mcAlpha[0])\n",
    "    \n",
    "#\n",
    "# Compute the statistics of the mc-results\n",
    "#\n",
    "\n",
    "marr=array(mList)\n",
    "barr=array(bList)\n",
    "\n",
    "mAvg = marr.sum()/N\n",
    "bAvg = barr.sum()/N\n",
    "delM = marr-mAvg\n",
    "delB = barr-bAvg\n",
    "sigM = sqrt((delM*delM).sum()/(N-1))  # sigM is the std-deviation of the m values\n",
    "sigB = sqrt((delB*delB).sum()/(N-1))  # sigB is the std-deviation of the b values\n",
    "\n",
    "#\n",
    "# plot the fit\n",
    "#\n",
    "print(\"Slope=\", mFit, '+/-', sigM, \"(\", mFit - sigM,\",\",mFit + sigM, \")\")\n",
    "print(\"Intercept=\", bFit, '+/-', sigB, \"(\", bFit - sigB,\",\",bFit + sigB, \")\")\n",
    "\n",
    "#\n",
    "# Just for fun print out the diagonals of the covariance matrix.\n",
    "#\n",
    "print # print a blank link\n",
    "print(\"Compare to cov-matrix for fun:\")\n",
    "print(\"sqsrt(cov[1,1]) (should be sigma m)\", sqrt(fcov[1,1]))\n",
    "print(\"sqrt(cov[0,0]) (should be sigma b)\", sqrt(fcov[0,0]))\n"
   ]
  },
  {
   "cell_type": "code",
   "execution_count": 26,
   "metadata": {},
   "outputs": [
    {
     "name": "stdout",
     "output_type": "stream",
     "text": [
      "m average: -0.401095769937\n",
      "m sigma: 0.00676272823764\n"
     ]
    },
    {
     "data": {
      "image/png": "[encoded data removed]",
      "text/plain": [
       "<matplotlib.figure.Figure at 0x10a6c97f0>"
      ]
     },
     "metadata": {},
     "output_type": "display_data"
    }
   ],
   "source": [
    "hist(marr) # look at the variation in \"m\" values\n",
    "print(\"m average:\", mAvg)\n",
    "print(\"m sigma:\",sigM)"
   ]
  },
  {
   "cell_type": "code",
   "execution_count": 27,
   "metadata": {},
   "outputs": [
    {
     "name": "stdout",
     "output_type": "stream",
     "text": [
      "b average: 10.2517626846\n",
      "b sigma: 0.078149615394\n"
     ]
    },
    {
     "data": {
      "image/png": "[encoded data removed]",
      "text/plain": [
       "<matplotlib.figure.Figure at 0x10a7dc390>"
      ]
     },
     "metadata": {},
     "output_type": "display_data"
    }
   ],
   "source": [
    "hist(barr)  # look at the variation in \"b\" values\n",
    "print(\"b average:\", bAvg)\n",
    "print(\"b sigma:\",sigB)"
   ]
  }
 ],
 "metadata": {
  "kernelspec": {
   "display_name": "Python 3",
   "language": "python",
   "name": "python3"
  },
  "language_info": {
   "codemirror_mode": {
    "name": "ipython",
    "version": 3
   },
   "file_extension": ".py",
   "mimetype": "text/x-python",
   "name": "python",
   "nbconvert_exporter": "python",
   "pygments_lexer": "ipython3",
   "version": "3.6.5"
  }
 },
 "nbformat": 4,
 "nbformat_minor": 1
}
