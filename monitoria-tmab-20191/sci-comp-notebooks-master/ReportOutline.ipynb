{
 "cells": [
  {
   "cell_type": "markdown",
   "metadata": {},
   "source": [
    "# Computational Narrative Report"
   ]
  },
  {
   "cell_type": "markdown",
   "metadata": {},
   "source": [
    "## Abstract\n",
    "\n",
    "This is where you describe *briefly* what you're doing and why. What's the point? What's the approach? What's the basic result (value +/- uncertainty)? That's it."
   ]
  },
  {
   "cell_type": "markdown",
   "metadata": {},
   "source": [
    "## Description\n",
    "\n",
    "This is where you go more in depth regarding background information, references, etc. What does the reader need to know to make sense of your project? What is the significance of the project. What did you learn? Stuff like that.\n"
   ]
  },
  {
   "cell_type": "markdown",
   "metadata": {},
   "source": [
    "## Algorithm and Discussion\n",
    "\n",
    "This is where you describe your computational approach. How are you going to address this problem computationally? How is your approach particularly suitable to this problem? What does the reader need to know or understand to make sense of your *code*."
   ]
  },
  {
   "cell_type": "markdown",
   "metadata": {},
   "source": [
    "## Implementation and Code\n",
    "\n",
    "This is the part where you actually solve the problem. Try to make your code clear and readable if possible. The idea is to mix in enough comments and narrative (in Markdown sections) to help the reader understand how your code actually solves the problem at hand. Explain how you're *validating* the code you've written."
   ]
  },
  {
   "cell_type": "markdown",
   "metadata": {},
   "source": [
    "## Results\n",
    "\n",
    "This is where to interpret the results of your calculation. Show how they solve the problem. Explain how you might improve the calculation if you had more time, resources, etc.. Explain how your approach to validation did or did not show your code is producing reasonable results."
   ]
  },
  {
   "cell_type": "markdown",
   "metadata": {},
   "source": [
    "## Conclusion\n",
    "\n",
    "This is a *brief* summary of the whole report. You don't need to *repeat* everything, but a person should be able to read the conclusion and know the basic findings, including numerical results and some indication of uncertainty. An overall assessment of the succcess or failure of the project should be provided."
   ]
  },
  {
   "cell_type": "code",
   "execution_count": null,
   "metadata": {},
   "outputs": [],
   "source": []
  }
 ],
 "metadata": {
  "kernelspec": {
   "display_name": "Python 3",
   "language": "python",
   "name": "python3"
  },
  "language_info": {
   "codemirror_mode": {
    "name": "ipython",
    "version": 3
   },
   "file_extension": ".py",
   "mimetype": "text/x-python",
   "name": "python",
   "nbconvert_exporter": "python",
   "pygments_lexer": "ipython3",
   "version": "3.6.5"
  }
 },
 "nbformat": 4,
 "nbformat_minor": 2
}
