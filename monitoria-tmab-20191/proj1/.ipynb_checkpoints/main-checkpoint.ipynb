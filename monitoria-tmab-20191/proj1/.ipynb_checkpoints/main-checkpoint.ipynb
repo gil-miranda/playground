{
 "cells": [
  {
   "cell_type": "code",
   "execution_count": 8,
   "metadata": {},
   "outputs": [
    {
     "name": "stdout",
     "output_type": "stream",
     "text": [
      "┏━━━━━━━━━━━━━━━━━━━━━━━━━━━━━━━━━━━━━━━━━━━━━━━━━━━━━━━━━━━━\n",
      "┃ Bem vindo a calculadora de Matrizes da ABC-116\n",
      "┃\n",
      "┃ 1. Operar matrizes\n",
      "┃ 2. Modificar lista de matrizes\n",
      "┃ 3. Configurações de software\n",
      "┃ 0. Sair do programa\n",
      "┗━━━━━━━━━━━━━━━━━━━━━━━━━━━━━━━━━━━━━━━━━━━━━━━━━━━━━━━━━━━━\n",
      "Escolha uma opção: 2\n",
      "┏━━━━━━━━━━━━━━━━━━━━━━━━━━━━━━━━━━━━━━━━━━━━━━━━━━━━━━━━━━━━\n",
      "┃ Você está no menu de modificação da lista de matrizes\n",
      "┃\n",
      "┃ Para retornar ao menu anterior digite 0. Ou escolha uma das opções a seguir\n",
      "┃\n",
      "┃ 1. Ler matrizes salvas\n",
      "┃ 2. Inserir matriz manualmente\n",
      "┃ 3. Inserir matrizes atráves de arquivo\n",
      "┃ 4. Fazer backup do arquivo de matrizes\n",
      "┃ 5. Limpar arquivo de matrizes\n",
      "┃ 0. Retornar ao menu anterior\n",
      "┗━━━━━━━━━━━━━━━━━━━━━━━━━━━━━━━━━━━━━━━━━━━━━━━━━━━━━━━━━━━━\n",
      "Escolha uma opção: 1\n",
      "[['A', ['2', '2'], [['5', '8'], ['0', '2']]], ['B', ['2', '2'], [['10', '20'], ['15', '0']]]]\n"
     ]
    }
   ],
   "source": [
    "\n",
    "\n",
    "### --- MENUS ---\n",
    "\n",
    "#### lista de caracteres para enfeitar o menu\n",
    "beautify_menu_top = ['\\u250f','\\u2501'*60]\n",
    "beautify_menu_bottom = ['\\u2517','\\u2501'*60]\n",
    "\n",
    "#### lista com opções de menu\n",
    "menu_options = [['Bem vindo a calculadora de Matrizes da ABC-116','Operar matrizes','Modificar lista de matrizes', 'Configurações de software'],\n",
    "['Você está no menu de modificação da lista de matrizes','Ler matrizes salvas', 'Inserir matriz manualmente', 'Inserir matrizes atráves de arquivo', 'Fazer backup do arquivo de matrizes','Limpar arquivo de matrizes'],\n",
    "['Você está no menu de operações matriciais', 'Somar duas matrizes', 'Subtrair duas matrizes', 'Multiplicar uma matriz por escalar', 'Multiplicar duas matrizes entre si', 'Transpor matriz', 'Permutar linhas/colunas de uma matriz', 'Somar linhas/colunas de uma matriz', 'Multiplicar linha/coluna por escalar', 'Inverter matriz', 'Combinação linear de matrizes', 'Escalonamento', 'Resolução de sistema linear']]\n",
    "\n",
    "### --- ARQUIVOS ---\n",
    "\n",
    "#### Metódo para leitura do arquivo de matrizes ####\n",
    "\n",
    "def read_db(file_name = 'db_matrix'):\n",
    "    content = []\n",
    "    matrix = []\n",
    "    with open(file_name+'.matapl', 'r') as f:\n",
    "        content = f.read().splitlines()\n",
    "    content = content[15:]\n",
    "    first_split = [i.strip(';') for i in content]\n",
    "    second_split = [i.split('=') for i in first_split]\n",
    "    third_split = [i[1].split(':') for i in second_split]\n",
    "    fourth_split = []\n",
    "    for i in third_split:\n",
    "        n = len(i)\n",
    "        fourth_split.append([j.split(',') for j in i])\n",
    "        #    fourth_split.append(i[j].split(','))\n",
    "    m_id = [j[0] for j in second_split]\n",
    "    m_mn = [i[0] for i in fourth_split]\n",
    "    m_data = [i[1:] for i in fourth_split]\n",
    "    for i in range(len(m_id)):\n",
    "        matrix.append([m_id[i],m_mn[i],m_data[i]])\n",
    "    return matrix\n",
    "\n",
    "#### Metódo do menu inicial\n",
    "def menu():\n",
    "    create_menu(0)\n",
    "    m_opt = int(input('Escolha uma opção: '))\n",
    "    if m_opt == 0: return 0\n",
    "    elif m_opt == 2: menu_modifica()\n",
    "    elif m_opt == 3: menu_opera()\n",
    "\n",
    "#### Metódo para o menu de operar matrizes\n",
    "def menu_opera():\n",
    "    create_menu(2)\n",
    "    m_opt = int(input('Escolha uma opção: '))\n",
    "    if m_opt == 0: menu()\n",
    "    else: return 0\n",
    "\n",
    "#### Metódo para o menu de modificar arquivo de matrizes\n",
    "def menu_modifica():\n",
    "    create_menu(1)\n",
    "    m_opt = int(input('Escolha uma opção: '))\n",
    "    if m_opt == 0: menu()\n",
    "    elif m_opt == 1: print(read_db())\n",
    "    else: return 0\n",
    "\n",
    "#### Metódo geral para diagramação dos menus\n",
    "def create_menu(m):\n",
    "    print(*beautify_menu_top, sep='')\n",
    "    print('\\u2503 %s' %menu_options[m][0])\n",
    "    print('\\u2503')\n",
    "    if m != 0:\n",
    "        print('\\u2503 Para retornar ao menu anterior digite 0. Ou escolha uma das opções a seguir')\n",
    "        print('\\u2503')\n",
    "    for i in range(1, len(menu_options[m])):\n",
    "        print('\\u2503 %d. %s' %(i,menu_options[m][i]))\n",
    "    if m != 0: print('\\u2503 0. Retornar ao menu anterior')\n",
    "    else: print('\\u2503 0. Sair do programa')\n",
    "    print(*beautify_menu_bottom, sep='')\n",
    "\n",
    "menu()\n"
   ]
  },
  {
   "cell_type": "code",
   "execution_count": null,
   "metadata": {},
   "outputs": [],
   "source": [
    "a = read_db()"
   ]
  },
  {
   "cell_type": "code",
   "execution_count": null,
   "metadata": {},
   "outputs": [],
   "source": [
    "a"
   ]
  },
  {
   "cell_type": "code",
   "execution_count": null,
   "metadata": {},
   "outputs": [],
   "source": [
    "'A' in a[0]"
   ]
  },
  {
   "cell_type": "code",
   "execution_count": null,
   "metadata": {},
   "outputs": [],
   "source": [
    "a[0] = a[0].strip(';')\n",
    "b = a[0].split('=')\n",
    "b"
   ]
  },
  {
   "cell_type": "code",
   "execution_count": null,
   "metadata": {},
   "outputs": [],
   "source": [
    "k = [i.strip(';') for i in a ]\n",
    "k\n",
    "j = [i.split('=') for i in k]\n",
    "k,j"
   ]
  },
  {
   "cell_type": "code",
   "execution_count": null,
   "metadata": {},
   "outputs": [],
   "source": [
    "c = b[1].split(':')\n",
    "c"
   ]
  },
  {
   "cell_type": "code",
   "execution_count": null,
   "metadata": {},
   "outputs": [],
   "source": [
    "c[0].split(',')"
   ]
  },
  {
   "cell_type": "code",
   "execution_count": null,
   "metadata": {},
   "outputs": [],
   "source": [
    "matrix = [b[0],c[0].split(','),c[1].split(','),c[2].split(',')]"
   ]
  },
  {
   "cell_type": "code",
   "execution_count": null,
   "metadata": {},
   "outputs": [],
   "source": [
    "matrix"
   ]
  },
  {
   "cell_type": "code",
   "execution_count": null,
   "metadata": {},
   "outputs": [],
   "source": []
  }
 ],
 "metadata": {
  "kernelspec": {
   "display_name": "Python 3",
   "language": "python",
   "name": "python3"
  },
  "language_info": {
   "codemirror_mode": {
    "name": "ipython",
    "version": 3
   },
   "file_extension": ".py",
   "mimetype": "text/x-python",
   "name": "python",
   "nbconvert_exporter": "python",
   "pygments_lexer": "ipython3",
   "version": "3.7.3"
  }
 },
 "nbformat": 4,
 "nbformat_minor": 2
}
